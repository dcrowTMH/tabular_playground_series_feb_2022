{
 "cells": [
  {
   "cell_type": "markdown",
   "id": "46fecb9a",
   "metadata": {
    "id": "46fecb9a"
   },
   "source": [
    "# Tabular Playground Series - Feb 2022\n",
    "\n",
    "This dataset is aimed to practive ML skills by using the genomic analysis technique data with some data compression and data loss.\n",
    "\n",
    "ATATGGCCTT will be represented as A2T4G2C2 instead of the sequence.\n",
    "\n",
    "Let's start with checking the data set and let's find out some direction for analysis.\n",
    "\n",
    "PS. This is my first notebook for a competition and I find it very fun. I hope you guys will enjoy watch it and please feel free to leave a comment for further discussion. What I have done was learnt by other experts on Kaggle or video. I think it will be great to have a practical notebook and try to ask for suggestion from others instead of keep watching the video. Thanks for watching & have fun!"
   ]
  },
  {
   "cell_type": "markdown",
   "id": "4f26e1a0",
   "metadata": {
    "id": "4f26e1a0"
   },
   "source": [
    "## Next Step & Discussion:\n",
    "\n",
    "Having a K-fold and adjustment of XGBoost hyper-parameter do improve the accoruacy for the model (0.94448). After that, PCA was applied as well. It may not be a great way to be implmented since all features seems important and the validation of training model may not be represented on final test set. There will be other way to deal with. Let's try for another model or technique."
   ]
  },
  {
   "cell_type": "markdown",
   "id": "fc3e6491",
   "metadata": {
    "id": "fc3e6491"
   },
   "source": [
    "#### Result of the submission\n",
    "\n",
    "17/02/2022 First trial (XGBoost): Score = 0.90366, Rank = 701\n",
    "\n",
    "18/02/2022 Second trial (XGBoost) : Score = 0.91611, Rank = 720 (Accuracy was increased)\n",
    "\n",
    "19/02/2022 Third trial (XGBoost with higher lambda & alpha): Score = 0.90005, Rank = NA\n",
    "\n",
    "19/02/2022 Fourth trial (XGBoost with 100 lambda & alpha): Score = 0.82967, Rank = NA\n",
    "\n",
    "19/02/2022 Fifth trial (XGBoost with no gamma + Second trial regularization): Score = 0.91781, Rank = 724\n",
    "\n",
    "21/02/2022 Sixth trial (XGBoost with 10-fold & depth adjusted): Score = 0.94448, Rank = 679\n",
    "\n",
    "22/02/2022 Seventh trial (XGBoost with 5-fold & PCA): Score = 0.86250, Rank = NA\n",
    "\n",
    "22/02/2022 Eighth trial (XGBoost with 5-fold & features amount PCA): Score : 0.87796, Rank = NA "
   ]
  },
  {
   "cell_type": "code",
   "execution_count": 23,
   "id": "a02bf331",
   "metadata": {
    "id": "a02bf331"
   },
   "outputs": [],
   "source": [
    "# libraries set up\n",
    "import pandas as pd\n",
    "import numpy as np\n",
    "import sklearn\n",
    "import seaborn as sns\n",
    "import matplotlib.pyplot as plt"
   ]
  },
  {
   "cell_type": "code",
   "execution_count": 4,
   "id": "a24bcd40",
   "metadata": {
    "id": "a24bcd40"
   },
   "outputs": [],
   "source": [
    "# read the data\n",
    "train_path = 'Data/train.csv'\n",
    "test_path = 'Data/test.csv'\n",
    "\n",
    "train_set = pd.read_csv(train_path, index_col = 0)\n",
    "test_set = pd.read_csv(test_path, index_col = 0)"
   ]
  },
  {
   "cell_type": "code",
   "execution_count": 5,
   "id": "03e87493",
   "metadata": {
    "colab": {
     "base_uri": "https://localhost:8080/",
     "height": 413
    },
    "id": "03e87493",
    "outputId": "e88af3ed-ca2d-4bef-bd92-188b1f8ad668"
   },
   "outputs": [
    {
     "data": {
      "text/html": [
       "<div>\n",
       "<style scoped>\n",
       "    .dataframe tbody tr th:only-of-type {\n",
       "        vertical-align: middle;\n",
       "    }\n",
       "\n",
       "    .dataframe tbody tr th {\n",
       "        vertical-align: top;\n",
       "    }\n",
       "\n",
       "    .dataframe thead th {\n",
       "        text-align: right;\n",
       "    }\n",
       "</style>\n",
       "<table border=\"1\" class=\"dataframe\">\n",
       "  <thead>\n",
       "    <tr style=\"text-align: right;\">\n",
       "      <th></th>\n",
       "      <th>A0T0G0C10</th>\n",
       "      <th>A0T0G1C9</th>\n",
       "      <th>A0T0G2C8</th>\n",
       "      <th>A0T0G3C7</th>\n",
       "      <th>A0T0G4C6</th>\n",
       "      <th>A0T0G5C5</th>\n",
       "      <th>A0T0G6C4</th>\n",
       "      <th>A0T0G7C3</th>\n",
       "      <th>A0T0G8C2</th>\n",
       "      <th>A0T0G9C1</th>\n",
       "      <th>...</th>\n",
       "      <th>A8T0G1C1</th>\n",
       "      <th>A8T0G2C0</th>\n",
       "      <th>A8T1G0C1</th>\n",
       "      <th>A8T1G1C0</th>\n",
       "      <th>A8T2G0C0</th>\n",
       "      <th>A9T0G0C1</th>\n",
       "      <th>A9T0G1C0</th>\n",
       "      <th>A9T1G0C0</th>\n",
       "      <th>A10T0G0C0</th>\n",
       "      <th>target</th>\n",
       "    </tr>\n",
       "    <tr>\n",
       "      <th>row_id</th>\n",
       "      <th></th>\n",
       "      <th></th>\n",
       "      <th></th>\n",
       "      <th></th>\n",
       "      <th></th>\n",
       "      <th></th>\n",
       "      <th></th>\n",
       "      <th></th>\n",
       "      <th></th>\n",
       "      <th></th>\n",
       "      <th></th>\n",
       "      <th></th>\n",
       "      <th></th>\n",
       "      <th></th>\n",
       "      <th></th>\n",
       "      <th></th>\n",
       "      <th></th>\n",
       "      <th></th>\n",
       "      <th></th>\n",
       "      <th></th>\n",
       "      <th></th>\n",
       "    </tr>\n",
       "  </thead>\n",
       "  <tbody>\n",
       "    <tr>\n",
       "      <th>0</th>\n",
       "      <td>-9.536743e-07</td>\n",
       "      <td>-0.000010</td>\n",
       "      <td>-0.000043</td>\n",
       "      <td>-0.000114</td>\n",
       "      <td>-0.000200</td>\n",
       "      <td>-0.000240</td>\n",
       "      <td>-0.000200</td>\n",
       "      <td>-0.000114</td>\n",
       "      <td>-0.000043</td>\n",
       "      <td>-0.000010</td>\n",
       "      <td>...</td>\n",
       "      <td>-0.000086</td>\n",
       "      <td>-0.000043</td>\n",
       "      <td>-0.000086</td>\n",
       "      <td>-0.000086</td>\n",
       "      <td>-0.000043</td>\n",
       "      <td>-0.000010</td>\n",
       "      <td>-0.000010</td>\n",
       "      <td>-0.000010</td>\n",
       "      <td>-9.536743e-07</td>\n",
       "      <td>Streptococcus_pyogenes</td>\n",
       "    </tr>\n",
       "    <tr>\n",
       "      <th>1</th>\n",
       "      <td>-9.536743e-07</td>\n",
       "      <td>-0.000010</td>\n",
       "      <td>-0.000043</td>\n",
       "      <td>0.000886</td>\n",
       "      <td>-0.000200</td>\n",
       "      <td>0.000760</td>\n",
       "      <td>-0.000200</td>\n",
       "      <td>-0.000114</td>\n",
       "      <td>-0.000043</td>\n",
       "      <td>-0.000010</td>\n",
       "      <td>...</td>\n",
       "      <td>-0.000086</td>\n",
       "      <td>-0.000043</td>\n",
       "      <td>0.000914</td>\n",
       "      <td>0.000914</td>\n",
       "      <td>-0.000043</td>\n",
       "      <td>-0.000010</td>\n",
       "      <td>-0.000010</td>\n",
       "      <td>-0.000010</td>\n",
       "      <td>-9.536743e-07</td>\n",
       "      <td>Salmonella_enterica</td>\n",
       "    </tr>\n",
       "    <tr>\n",
       "      <th>2</th>\n",
       "      <td>-9.536743e-07</td>\n",
       "      <td>-0.000002</td>\n",
       "      <td>0.000007</td>\n",
       "      <td>0.000129</td>\n",
       "      <td>0.000268</td>\n",
       "      <td>0.000270</td>\n",
       "      <td>0.000243</td>\n",
       "      <td>0.000125</td>\n",
       "      <td>0.000001</td>\n",
       "      <td>-0.000007</td>\n",
       "      <td>...</td>\n",
       "      <td>0.000084</td>\n",
       "      <td>0.000048</td>\n",
       "      <td>0.000081</td>\n",
       "      <td>0.000106</td>\n",
       "      <td>0.000072</td>\n",
       "      <td>0.000010</td>\n",
       "      <td>0.000008</td>\n",
       "      <td>0.000019</td>\n",
       "      <td>1.046326e-06</td>\n",
       "      <td>Salmonella_enterica</td>\n",
       "    </tr>\n",
       "    <tr>\n",
       "      <th>3</th>\n",
       "      <td>4.632568e-08</td>\n",
       "      <td>-0.000006</td>\n",
       "      <td>0.000012</td>\n",
       "      <td>0.000245</td>\n",
       "      <td>0.000492</td>\n",
       "      <td>0.000522</td>\n",
       "      <td>0.000396</td>\n",
       "      <td>0.000197</td>\n",
       "      <td>-0.000003</td>\n",
       "      <td>-0.000007</td>\n",
       "      <td>...</td>\n",
       "      <td>0.000151</td>\n",
       "      <td>0.000100</td>\n",
       "      <td>0.000180</td>\n",
       "      <td>0.000202</td>\n",
       "      <td>0.000153</td>\n",
       "      <td>0.000021</td>\n",
       "      <td>0.000015</td>\n",
       "      <td>0.000046</td>\n",
       "      <td>-9.536743e-07</td>\n",
       "      <td>Salmonella_enterica</td>\n",
       "    </tr>\n",
       "    <tr>\n",
       "      <th>4</th>\n",
       "      <td>-9.536743e-07</td>\n",
       "      <td>-0.000010</td>\n",
       "      <td>-0.000043</td>\n",
       "      <td>-0.000114</td>\n",
       "      <td>-0.000200</td>\n",
       "      <td>-0.000240</td>\n",
       "      <td>-0.000200</td>\n",
       "      <td>-0.000114</td>\n",
       "      <td>-0.000043</td>\n",
       "      <td>-0.000010</td>\n",
       "      <td>...</td>\n",
       "      <td>-0.000086</td>\n",
       "      <td>-0.000043</td>\n",
       "      <td>-0.000086</td>\n",
       "      <td>-0.000086</td>\n",
       "      <td>-0.000043</td>\n",
       "      <td>-0.000010</td>\n",
       "      <td>-0.000010</td>\n",
       "      <td>-0.000010</td>\n",
       "      <td>-9.536743e-07</td>\n",
       "      <td>Enterococcus_hirae</td>\n",
       "    </tr>\n",
       "  </tbody>\n",
       "</table>\n",
       "<p>5 rows × 287 columns</p>\n",
       "</div>"
      ],
      "text/plain": [
       "           A0T0G0C10  A0T0G1C9  A0T0G2C8  A0T0G3C7  A0T0G4C6  A0T0G5C5  \\\n",
       "row_id                                                                   \n",
       "0      -9.536743e-07 -0.000010 -0.000043 -0.000114 -0.000200 -0.000240   \n",
       "1      -9.536743e-07 -0.000010 -0.000043  0.000886 -0.000200  0.000760   \n",
       "2      -9.536743e-07 -0.000002  0.000007  0.000129  0.000268  0.000270   \n",
       "3       4.632568e-08 -0.000006  0.000012  0.000245  0.000492  0.000522   \n",
       "4      -9.536743e-07 -0.000010 -0.000043 -0.000114 -0.000200 -0.000240   \n",
       "\n",
       "        A0T0G6C4  A0T0G7C3  A0T0G8C2  A0T0G9C1  ...  A8T0G1C1  A8T0G2C0  \\\n",
       "row_id                                          ...                       \n",
       "0      -0.000200 -0.000114 -0.000043 -0.000010  ... -0.000086 -0.000043   \n",
       "1      -0.000200 -0.000114 -0.000043 -0.000010  ... -0.000086 -0.000043   \n",
       "2       0.000243  0.000125  0.000001 -0.000007  ...  0.000084  0.000048   \n",
       "3       0.000396  0.000197 -0.000003 -0.000007  ...  0.000151  0.000100   \n",
       "4      -0.000200 -0.000114 -0.000043 -0.000010  ... -0.000086 -0.000043   \n",
       "\n",
       "        A8T1G0C1  A8T1G1C0  A8T2G0C0  A9T0G0C1  A9T0G1C0  A9T1G0C0  \\\n",
       "row_id                                                               \n",
       "0      -0.000086 -0.000086 -0.000043 -0.000010 -0.000010 -0.000010   \n",
       "1       0.000914  0.000914 -0.000043 -0.000010 -0.000010 -0.000010   \n",
       "2       0.000081  0.000106  0.000072  0.000010  0.000008  0.000019   \n",
       "3       0.000180  0.000202  0.000153  0.000021  0.000015  0.000046   \n",
       "4      -0.000086 -0.000086 -0.000043 -0.000010 -0.000010 -0.000010   \n",
       "\n",
       "           A10T0G0C0                  target  \n",
       "row_id                                        \n",
       "0      -9.536743e-07  Streptococcus_pyogenes  \n",
       "1      -9.536743e-07     Salmonella_enterica  \n",
       "2       1.046326e-06     Salmonella_enterica  \n",
       "3      -9.536743e-07     Salmonella_enterica  \n",
       "4      -9.536743e-07      Enterococcus_hirae  \n",
       "\n",
       "[5 rows x 287 columns]"
      ]
     },
     "execution_count": 5,
     "metadata": {},
     "output_type": "execute_result"
    }
   ],
   "source": [
    "# preview for the train data\n",
    "df_train = train_set.copy()\n",
    "df_train.head()"
   ]
  },
  {
   "cell_type": "code",
   "execution_count": 6,
   "id": "6a401eda",
   "metadata": {
    "colab": {
     "base_uri": "https://localhost:8080/",
     "height": 413
    },
    "id": "6a401eda",
    "outputId": "44455507-f2ae-46b6-b9de-55b36d0faac0"
   },
   "outputs": [
    {
     "data": {
      "text/html": [
       "<div>\n",
       "<style scoped>\n",
       "    .dataframe tbody tr th:only-of-type {\n",
       "        vertical-align: middle;\n",
       "    }\n",
       "\n",
       "    .dataframe tbody tr th {\n",
       "        vertical-align: top;\n",
       "    }\n",
       "\n",
       "    .dataframe thead th {\n",
       "        text-align: right;\n",
       "    }\n",
       "</style>\n",
       "<table border=\"1\" class=\"dataframe\">\n",
       "  <thead>\n",
       "    <tr style=\"text-align: right;\">\n",
       "      <th></th>\n",
       "      <th>A0T0G0C10</th>\n",
       "      <th>A0T0G1C9</th>\n",
       "      <th>A0T0G2C8</th>\n",
       "      <th>A0T0G3C7</th>\n",
       "      <th>A0T0G4C6</th>\n",
       "      <th>A0T0G5C5</th>\n",
       "      <th>A0T0G6C4</th>\n",
       "      <th>A0T0G7C3</th>\n",
       "      <th>A0T0G8C2</th>\n",
       "      <th>A0T0G9C1</th>\n",
       "      <th>...</th>\n",
       "      <th>A8T0G0C2</th>\n",
       "      <th>A8T0G1C1</th>\n",
       "      <th>A8T0G2C0</th>\n",
       "      <th>A8T1G0C1</th>\n",
       "      <th>A8T1G1C0</th>\n",
       "      <th>A8T2G0C0</th>\n",
       "      <th>A9T0G0C1</th>\n",
       "      <th>A9T0G1C0</th>\n",
       "      <th>A9T1G0C0</th>\n",
       "      <th>A10T0G0C0</th>\n",
       "    </tr>\n",
       "    <tr>\n",
       "      <th>row_id</th>\n",
       "      <th></th>\n",
       "      <th></th>\n",
       "      <th></th>\n",
       "      <th></th>\n",
       "      <th></th>\n",
       "      <th></th>\n",
       "      <th></th>\n",
       "      <th></th>\n",
       "      <th></th>\n",
       "      <th></th>\n",
       "      <th></th>\n",
       "      <th></th>\n",
       "      <th></th>\n",
       "      <th></th>\n",
       "      <th></th>\n",
       "      <th></th>\n",
       "      <th></th>\n",
       "      <th></th>\n",
       "      <th></th>\n",
       "      <th></th>\n",
       "      <th></th>\n",
       "    </tr>\n",
       "  </thead>\n",
       "  <tbody>\n",
       "    <tr>\n",
       "      <th>200000</th>\n",
       "      <td>-9.536743e-07</td>\n",
       "      <td>-0.000002</td>\n",
       "      <td>-9.153442e-07</td>\n",
       "      <td>0.000024</td>\n",
       "      <td>0.000034</td>\n",
       "      <td>-0.000002</td>\n",
       "      <td>0.000021</td>\n",
       "      <td>0.000024</td>\n",
       "      <td>-0.000009</td>\n",
       "      <td>-0.000008</td>\n",
       "      <td>...</td>\n",
       "      <td>0.000039</td>\n",
       "      <td>0.000085</td>\n",
       "      <td>0.000055</td>\n",
       "      <td>0.000108</td>\n",
       "      <td>0.000090</td>\n",
       "      <td>0.000059</td>\n",
       "      <td>0.000010</td>\n",
       "      <td>0.000006</td>\n",
       "      <td>0.000027</td>\n",
       "      <td>4.632568e-08</td>\n",
       "    </tr>\n",
       "    <tr>\n",
       "      <th>200001</th>\n",
       "      <td>-9.536743e-07</td>\n",
       "      <td>-0.000010</td>\n",
       "      <td>-4.291534e-05</td>\n",
       "      <td>-0.000114</td>\n",
       "      <td>0.001800</td>\n",
       "      <td>-0.000240</td>\n",
       "      <td>0.001800</td>\n",
       "      <td>-0.000114</td>\n",
       "      <td>0.000957</td>\n",
       "      <td>-0.000010</td>\n",
       "      <td>...</td>\n",
       "      <td>-0.000043</td>\n",
       "      <td>0.000914</td>\n",
       "      <td>-0.000043</td>\n",
       "      <td>-0.000086</td>\n",
       "      <td>-0.000086</td>\n",
       "      <td>-0.000043</td>\n",
       "      <td>-0.000010</td>\n",
       "      <td>-0.000010</td>\n",
       "      <td>-0.000010</td>\n",
       "      <td>-9.536743e-07</td>\n",
       "    </tr>\n",
       "    <tr>\n",
       "      <th>200002</th>\n",
       "      <td>4.632568e-08</td>\n",
       "      <td>0.000003</td>\n",
       "      <td>8.465576e-08</td>\n",
       "      <td>-0.000014</td>\n",
       "      <td>0.000007</td>\n",
       "      <td>-0.000005</td>\n",
       "      <td>-0.000004</td>\n",
       "      <td>0.000003</td>\n",
       "      <td>0.000004</td>\n",
       "      <td>-0.000008</td>\n",
       "      <td>...</td>\n",
       "      <td>0.000041</td>\n",
       "      <td>0.000102</td>\n",
       "      <td>0.000084</td>\n",
       "      <td>0.000111</td>\n",
       "      <td>0.000117</td>\n",
       "      <td>0.000070</td>\n",
       "      <td>0.000020</td>\n",
       "      <td>0.000030</td>\n",
       "      <td>0.000021</td>\n",
       "      <td>4.632568e-08</td>\n",
       "    </tr>\n",
       "    <tr>\n",
       "      <th>200003</th>\n",
       "      <td>-9.536743e-07</td>\n",
       "      <td>-0.000008</td>\n",
       "      <td>8.084656e-06</td>\n",
       "      <td>0.000216</td>\n",
       "      <td>0.000420</td>\n",
       "      <td>0.000514</td>\n",
       "      <td>0.000452</td>\n",
       "      <td>0.000187</td>\n",
       "      <td>-0.000005</td>\n",
       "      <td>-0.000008</td>\n",
       "      <td>...</td>\n",
       "      <td>0.000069</td>\n",
       "      <td>0.000158</td>\n",
       "      <td>0.000098</td>\n",
       "      <td>0.000175</td>\n",
       "      <td>0.000217</td>\n",
       "      <td>0.000150</td>\n",
       "      <td>0.000018</td>\n",
       "      <td>0.000016</td>\n",
       "      <td>0.000051</td>\n",
       "      <td>-9.536743e-07</td>\n",
       "    </tr>\n",
       "    <tr>\n",
       "      <th>200004</th>\n",
       "      <td>-9.536743e-07</td>\n",
       "      <td>-0.000010</td>\n",
       "      <td>-4.291534e-05</td>\n",
       "      <td>-0.000114</td>\n",
       "      <td>-0.000200</td>\n",
       "      <td>-0.000240</td>\n",
       "      <td>-0.000200</td>\n",
       "      <td>-0.000114</td>\n",
       "      <td>-0.000043</td>\n",
       "      <td>-0.000010</td>\n",
       "      <td>...</td>\n",
       "      <td>-0.000043</td>\n",
       "      <td>-0.000086</td>\n",
       "      <td>-0.000043</td>\n",
       "      <td>-0.000086</td>\n",
       "      <td>0.000914</td>\n",
       "      <td>-0.000043</td>\n",
       "      <td>-0.000010</td>\n",
       "      <td>-0.000010</td>\n",
       "      <td>0.000990</td>\n",
       "      <td>-9.536743e-07</td>\n",
       "    </tr>\n",
       "  </tbody>\n",
       "</table>\n",
       "<p>5 rows × 286 columns</p>\n",
       "</div>"
      ],
      "text/plain": [
       "           A0T0G0C10  A0T0G1C9      A0T0G2C8  A0T0G3C7  A0T0G4C6  A0T0G5C5  \\\n",
       "row_id                                                                       \n",
       "200000 -9.536743e-07 -0.000002 -9.153442e-07  0.000024  0.000034 -0.000002   \n",
       "200001 -9.536743e-07 -0.000010 -4.291534e-05 -0.000114  0.001800 -0.000240   \n",
       "200002  4.632568e-08  0.000003  8.465576e-08 -0.000014  0.000007 -0.000005   \n",
       "200003 -9.536743e-07 -0.000008  8.084656e-06  0.000216  0.000420  0.000514   \n",
       "200004 -9.536743e-07 -0.000010 -4.291534e-05 -0.000114 -0.000200 -0.000240   \n",
       "\n",
       "        A0T0G6C4  A0T0G7C3  A0T0G8C2  A0T0G9C1  ...  A8T0G0C2  A8T0G1C1  \\\n",
       "row_id                                          ...                       \n",
       "200000  0.000021  0.000024 -0.000009 -0.000008  ...  0.000039  0.000085   \n",
       "200001  0.001800 -0.000114  0.000957 -0.000010  ... -0.000043  0.000914   \n",
       "200002 -0.000004  0.000003  0.000004 -0.000008  ...  0.000041  0.000102   \n",
       "200003  0.000452  0.000187 -0.000005 -0.000008  ...  0.000069  0.000158   \n",
       "200004 -0.000200 -0.000114 -0.000043 -0.000010  ... -0.000043 -0.000086   \n",
       "\n",
       "        A8T0G2C0  A8T1G0C1  A8T1G1C0  A8T2G0C0  A9T0G0C1  A9T0G1C0  A9T1G0C0  \\\n",
       "row_id                                                                         \n",
       "200000  0.000055  0.000108  0.000090  0.000059  0.000010  0.000006  0.000027   \n",
       "200001 -0.000043 -0.000086 -0.000086 -0.000043 -0.000010 -0.000010 -0.000010   \n",
       "200002  0.000084  0.000111  0.000117  0.000070  0.000020  0.000030  0.000021   \n",
       "200003  0.000098  0.000175  0.000217  0.000150  0.000018  0.000016  0.000051   \n",
       "200004 -0.000043 -0.000086  0.000914 -0.000043 -0.000010 -0.000010  0.000990   \n",
       "\n",
       "           A10T0G0C0  \n",
       "row_id                \n",
       "200000  4.632568e-08  \n",
       "200001 -9.536743e-07  \n",
       "200002  4.632568e-08  \n",
       "200003 -9.536743e-07  \n",
       "200004 -9.536743e-07  \n",
       "\n",
       "[5 rows x 286 columns]"
      ]
     },
     "execution_count": 6,
     "metadata": {},
     "output_type": "execute_result"
    }
   ],
   "source": [
    "#preview for the test data\n",
    "df_test = test_set.copy()\n",
    "df_test.head()"
   ]
  },
  {
   "cell_type": "code",
   "execution_count": 7,
   "id": "3659bace",
   "metadata": {
    "colab": {
     "base_uri": "https://localhost:8080/"
    },
    "id": "3659bace",
    "outputId": "c648dd50-5dd8-4b2e-d49a-8acc641bde58"
   },
   "outputs": [
    {
     "data": {
      "text/plain": [
       "(200000, 287)"
      ]
     },
     "execution_count": 7,
     "metadata": {},
     "output_type": "execute_result"
    }
   ],
   "source": [
    "# check the shape for train set\n",
    "df_train.shape"
   ]
  },
  {
   "cell_type": "code",
   "execution_count": 8,
   "id": "4f8eb696",
   "metadata": {
    "colab": {
     "base_uri": "https://localhost:8080/"
    },
    "id": "4f8eb696",
    "outputId": "0c656915-f6b3-46bc-960a-b9b2d1569908"
   },
   "outputs": [
    {
     "data": {
      "text/plain": [
       "(100000, 286)"
      ]
     },
     "execution_count": 8,
     "metadata": {},
     "output_type": "execute_result"
    }
   ],
   "source": [
    "# check the shape for test set\n",
    "df_test.shape"
   ]
  },
  {
   "cell_type": "markdown",
   "id": "b571014e",
   "metadata": {
    "id": "b571014e"
   },
   "source": [
    "There are 200000 set data for model training. \n",
    "\n",
    "100000 testing sample was used for prediction and check with the performance by upload the result to Kaggle.\n",
    "\n",
    "Now, let's check the whole data set and see is there any duplicate/non-numeric data/ missing value and some column needed to be worked on for feature engineering."
   ]
  },
  {
   "cell_type": "markdown",
   "id": "df440eac",
   "metadata": {
    "id": "df440eac"
   },
   "source": [
    "#### Missing value\n",
    "\n",
    "Let's check is there any missing value for each sample in both training and testing set"
   ]
  },
  {
   "cell_type": "code",
   "execution_count": 9,
   "id": "5e32fc88",
   "metadata": {
    "colab": {
     "base_uri": "https://localhost:8080/"
    },
    "id": "5e32fc88",
    "outputId": "ecc30f37-d353-446f-c056-e3b25c6fae95"
   },
   "outputs": [
    {
     "name": "stdout",
     "output_type": "stream",
     "text": [
      "Missing value for train set: 0\n",
      "Missing value for test set: 0\n"
     ]
    }
   ],
   "source": [
    "# count the missing value in both data set\n",
    "train_missing_count = 0\n",
    "for i in df_train.columns:\n",
    "    train_missing_count += df_train[i].isna().sum()\n",
    "\n",
    "test_missing_count = 0\n",
    "for i in df_test.columns:\n",
    "    test_missing_count += df_test[i].isna().sum()\n",
    "    \n",
    "print('Missing value for train set: {0}'.format(train_missing_count))\n",
    "print('Missing value for test set: {0}'.format(test_missing_count))"
   ]
  },
  {
   "cell_type": "markdown",
   "id": "9ff195c7",
   "metadata": {
    "id": "9ff195c7"
   },
   "source": [
    "There is no missing value for the data set and we don't have to fill with other value. All the information was remained & obtained.\n",
    "\n",
    "Next, we have to work on the duplicate."
   ]
  },
  {
   "cell_type": "markdown",
   "id": "960569c1",
   "metadata": {
    "id": "960569c1"
   },
   "source": [
    "#### Duplicate"
   ]
  },
  {
   "cell_type": "markdown",
   "id": "8ed5b34c",
   "metadata": {
    "id": "8ed5b34c"
   },
   "source": [
    "Let's check the sample number for duplicate sample"
   ]
  },
  {
   "cell_type": "code",
   "execution_count": 10,
   "id": "114f8662",
   "metadata": {
    "colab": {
     "base_uri": "https://localhost:8080/"
    },
    "id": "114f8662",
    "outputId": "0d4007b9-ab2c-4717-88ae-ec07371f8531"
   },
   "outputs": [
    {
     "name": "stdout",
     "output_type": "stream",
     "text": [
      "Duplicate sample in train set: 76007\n",
      "Duplicate sample in test set: 26779\n"
     ]
    }
   ],
   "source": [
    "# print the sample size for duplicate in both train and test set\n",
    "print('Duplicate sample in train set: {0}'.format(df_train.duplicated().sum()))\n",
    "print('Duplicate sample in test set: {0}'.format(df_test.duplicated().sum()))"
   ]
  },
  {
   "cell_type": "markdown",
   "id": "508564f9",
   "metadata": {
    "id": "508564f9"
   },
   "source": [
    "Let's remove the duplicates for training set since it may cause overfitting issues."
   ]
  },
  {
   "cell_type": "code",
   "execution_count": 11,
   "id": "aaa9fb0a",
   "metadata": {
    "id": "aaa9fb0a"
   },
   "outputs": [],
   "source": [
    "# remove the duplicate and replace training set\n",
    "df_train.drop_duplicates(subset = None, keep = 'first', inplace = True)"
   ]
  },
  {
   "cell_type": "markdown",
   "id": "28786bac",
   "metadata": {
    "id": "28786bac"
   },
   "source": [
    "#### Object type encoding/ mapping"
   ]
  },
  {
   "cell_type": "markdown",
   "id": "9114b9e7",
   "metadata": {
    "id": "9114b9e7"
   },
   "source": [
    "All the features should be numeric data except the target column but we can still check about the whole data set."
   ]
  },
  {
   "cell_type": "code",
   "execution_count": 12,
   "id": "c2c860c2",
   "metadata": {
    "colab": {
     "base_uri": "https://localhost:8080/"
    },
    "id": "c2c860c2",
    "outputId": "6e5108e9-9bfd-40ad-b2df-615ffe48e073"
   },
   "outputs": [
    {
     "name": "stdout",
     "output_type": "stream",
     "text": [
      "['target']\n"
     ]
    }
   ],
   "source": [
    "# check for the object column in training set\n",
    "object_list = []\n",
    "for i in df_train.columns:\n",
    "    if df_train[i].dtypes == 'object':\n",
    "        object_list.append(i)\n",
    "print(object_list)"
   ]
  },
  {
   "cell_type": "markdown",
   "id": "497fa8f5",
   "metadata": {
    "id": "497fa8f5"
   },
   "source": [
    "We can see that only the target columns was object type and it is the only column that we needed to do some feature engineering. We can check for the test set as well."
   ]
  },
  {
   "cell_type": "code",
   "execution_count": 13,
   "id": "d5a103ee",
   "metadata": {
    "colab": {
     "base_uri": "https://localhost:8080/"
    },
    "id": "d5a103ee",
    "outputId": "fd728594-9d85-405b-a855-eba6615c2303"
   },
   "outputs": [
    {
     "name": "stdout",
     "output_type": "stream",
     "text": [
      "[]\n"
     ]
    }
   ],
   "source": [
    "# check for the object column in testing set\n",
    "object_list = []\n",
    "for i in df_test.columns:\n",
    "    if df_test[i].dtypes == 'object':\n",
    "        object_list.append(i)\n",
    "print(object_list)"
   ]
  },
  {
   "cell_type": "markdown",
   "id": "cced40a3",
   "metadata": {
    "id": "cced40a3"
   },
   "source": [
    "Now, all the features parameter was numeric and it can be applied easily for our model without any transformation at this moment.\n",
    "\n",
    "Let's work on the target column in training set and change it to numeric value that's the model is readable.\n",
    "\n",
    "There is two ways for handling this column: (1) Ordinal Encoding (2) One-Hot Encoding. From the description of the data set, there is ten type of bacteria as our target and Orginal Encoding will be a better way to deal with it since it is our target column and we dont want much column for each type of bacteria."
   ]
  },
  {
   "cell_type": "code",
   "execution_count": 14,
   "id": "b7ef9695",
   "metadata": {
    "colab": {
     "base_uri": "https://localhost:8080/"
    },
    "id": "b7ef9695",
    "outputId": "9b5e9322-a48a-4d99-dd89-f3798c7a99f3"
   },
   "outputs": [
    {
     "data": {
      "text/plain": [
       "{'Streptococcus_pyogenes': 0,\n",
       " 'Salmonella_enterica': 1,\n",
       " 'Enterococcus_hirae': 2,\n",
       " 'Escherichia_coli': 3,\n",
       " 'Campylobacter_jejuni': 4,\n",
       " 'Streptococcus_pneumoniae': 5,\n",
       " 'Staphylococcus_aureus': 6,\n",
       " 'Escherichia_fergusonii': 7,\n",
       " 'Bacteroides_fragilis': 8,\n",
       " 'Klebsiella_pneumoniae': 9}"
      ]
     },
     "execution_count": 14,
     "metadata": {},
     "output_type": "execute_result"
    }
   ],
   "source": [
    "# let's check about what type of bacteria\n",
    "list(df_train['target'].unique())\n",
    "\n",
    "# let's assign a number for each type\n",
    "ordinal_target = dict(enumerate(df_train['target'].unique()))\n",
    "ordinal_target = {y:x for x,y in ordinal_target.items()}\n",
    "ordinal_target"
   ]
  },
  {
   "cell_type": "code",
   "execution_count": 15,
   "id": "d3ffd827",
   "metadata": {
    "colab": {
     "base_uri": "https://localhost:8080/"
    },
    "id": "d3ffd827",
    "outputId": "548bb0a5-fa56-44f2-f0cf-6833d537e545"
   },
   "outputs": [
    {
     "data": {
      "text/plain": [
       "{0: 'Streptococcus_pyogenes',\n",
       " 1: 'Salmonella_enterica',\n",
       " 2: 'Enterococcus_hirae',\n",
       " 3: 'Escherichia_coli',\n",
       " 4: 'Campylobacter_jejuni',\n",
       " 5: 'Streptococcus_pneumoniae',\n",
       " 6: 'Staphylococcus_aureus',\n",
       " 7: 'Escherichia_fergusonii',\n",
       " 8: 'Bacteroides_fragilis',\n",
       " 9: 'Klebsiella_pneumoniae'}"
      ]
     },
     "execution_count": 15,
     "metadata": {},
     "output_type": "execute_result"
    }
   ],
   "source": [
    "reverse_target = {y:x for x,y in ordinal_target.items()}\n",
    "reverse_target"
   ]
  },
  {
   "cell_type": "code",
   "execution_count": 16,
   "id": "90f4882e",
   "metadata": {
    "colab": {
     "base_uri": "https://localhost:8080/",
     "height": 413
    },
    "id": "90f4882e",
    "outputId": "b39896c6-6e40-4eeb-e665-f6d457bf38d1"
   },
   "outputs": [
    {
     "data": {
      "text/html": [
       "<div>\n",
       "<style scoped>\n",
       "    .dataframe tbody tr th:only-of-type {\n",
       "        vertical-align: middle;\n",
       "    }\n",
       "\n",
       "    .dataframe tbody tr th {\n",
       "        vertical-align: top;\n",
       "    }\n",
       "\n",
       "    .dataframe thead th {\n",
       "        text-align: right;\n",
       "    }\n",
       "</style>\n",
       "<table border=\"1\" class=\"dataframe\">\n",
       "  <thead>\n",
       "    <tr style=\"text-align: right;\">\n",
       "      <th></th>\n",
       "      <th>A0T0G0C10</th>\n",
       "      <th>A0T0G1C9</th>\n",
       "      <th>A0T0G2C8</th>\n",
       "      <th>A0T0G3C7</th>\n",
       "      <th>A0T0G4C6</th>\n",
       "      <th>A0T0G5C5</th>\n",
       "      <th>A0T0G6C4</th>\n",
       "      <th>A0T0G7C3</th>\n",
       "      <th>A0T0G8C2</th>\n",
       "      <th>A0T0G9C1</th>\n",
       "      <th>...</th>\n",
       "      <th>A8T0G1C1</th>\n",
       "      <th>A8T0G2C0</th>\n",
       "      <th>A8T1G0C1</th>\n",
       "      <th>A8T1G1C0</th>\n",
       "      <th>A8T2G0C0</th>\n",
       "      <th>A9T0G0C1</th>\n",
       "      <th>A9T0G1C0</th>\n",
       "      <th>A9T1G0C0</th>\n",
       "      <th>A10T0G0C0</th>\n",
       "      <th>target</th>\n",
       "    </tr>\n",
       "    <tr>\n",
       "      <th>row_id</th>\n",
       "      <th></th>\n",
       "      <th></th>\n",
       "      <th></th>\n",
       "      <th></th>\n",
       "      <th></th>\n",
       "      <th></th>\n",
       "      <th></th>\n",
       "      <th></th>\n",
       "      <th></th>\n",
       "      <th></th>\n",
       "      <th></th>\n",
       "      <th></th>\n",
       "      <th></th>\n",
       "      <th></th>\n",
       "      <th></th>\n",
       "      <th></th>\n",
       "      <th></th>\n",
       "      <th></th>\n",
       "      <th></th>\n",
       "      <th></th>\n",
       "      <th></th>\n",
       "    </tr>\n",
       "  </thead>\n",
       "  <tbody>\n",
       "    <tr>\n",
       "      <th>0</th>\n",
       "      <td>-9.536743e-07</td>\n",
       "      <td>-0.000010</td>\n",
       "      <td>-0.000043</td>\n",
       "      <td>-0.000114</td>\n",
       "      <td>-0.000200</td>\n",
       "      <td>-0.000240</td>\n",
       "      <td>-0.000200</td>\n",
       "      <td>-0.000114</td>\n",
       "      <td>-0.000043</td>\n",
       "      <td>-0.000010</td>\n",
       "      <td>...</td>\n",
       "      <td>-0.000086</td>\n",
       "      <td>-0.000043</td>\n",
       "      <td>-0.000086</td>\n",
       "      <td>-0.000086</td>\n",
       "      <td>-0.000043</td>\n",
       "      <td>-0.000010</td>\n",
       "      <td>-0.000010</td>\n",
       "      <td>-0.000010</td>\n",
       "      <td>-9.536743e-07</td>\n",
       "      <td>0</td>\n",
       "    </tr>\n",
       "    <tr>\n",
       "      <th>1</th>\n",
       "      <td>-9.536743e-07</td>\n",
       "      <td>-0.000010</td>\n",
       "      <td>-0.000043</td>\n",
       "      <td>0.000886</td>\n",
       "      <td>-0.000200</td>\n",
       "      <td>0.000760</td>\n",
       "      <td>-0.000200</td>\n",
       "      <td>-0.000114</td>\n",
       "      <td>-0.000043</td>\n",
       "      <td>-0.000010</td>\n",
       "      <td>...</td>\n",
       "      <td>-0.000086</td>\n",
       "      <td>-0.000043</td>\n",
       "      <td>0.000914</td>\n",
       "      <td>0.000914</td>\n",
       "      <td>-0.000043</td>\n",
       "      <td>-0.000010</td>\n",
       "      <td>-0.000010</td>\n",
       "      <td>-0.000010</td>\n",
       "      <td>-9.536743e-07</td>\n",
       "      <td>1</td>\n",
       "    </tr>\n",
       "    <tr>\n",
       "      <th>2</th>\n",
       "      <td>-9.536743e-07</td>\n",
       "      <td>-0.000002</td>\n",
       "      <td>0.000007</td>\n",
       "      <td>0.000129</td>\n",
       "      <td>0.000268</td>\n",
       "      <td>0.000270</td>\n",
       "      <td>0.000243</td>\n",
       "      <td>0.000125</td>\n",
       "      <td>0.000001</td>\n",
       "      <td>-0.000007</td>\n",
       "      <td>...</td>\n",
       "      <td>0.000084</td>\n",
       "      <td>0.000048</td>\n",
       "      <td>0.000081</td>\n",
       "      <td>0.000106</td>\n",
       "      <td>0.000072</td>\n",
       "      <td>0.000010</td>\n",
       "      <td>0.000008</td>\n",
       "      <td>0.000019</td>\n",
       "      <td>1.046326e-06</td>\n",
       "      <td>1</td>\n",
       "    </tr>\n",
       "    <tr>\n",
       "      <th>3</th>\n",
       "      <td>4.632568e-08</td>\n",
       "      <td>-0.000006</td>\n",
       "      <td>0.000012</td>\n",
       "      <td>0.000245</td>\n",
       "      <td>0.000492</td>\n",
       "      <td>0.000522</td>\n",
       "      <td>0.000396</td>\n",
       "      <td>0.000197</td>\n",
       "      <td>-0.000003</td>\n",
       "      <td>-0.000007</td>\n",
       "      <td>...</td>\n",
       "      <td>0.000151</td>\n",
       "      <td>0.000100</td>\n",
       "      <td>0.000180</td>\n",
       "      <td>0.000202</td>\n",
       "      <td>0.000153</td>\n",
       "      <td>0.000021</td>\n",
       "      <td>0.000015</td>\n",
       "      <td>0.000046</td>\n",
       "      <td>-9.536743e-07</td>\n",
       "      <td>1</td>\n",
       "    </tr>\n",
       "    <tr>\n",
       "      <th>4</th>\n",
       "      <td>-9.536743e-07</td>\n",
       "      <td>-0.000010</td>\n",
       "      <td>-0.000043</td>\n",
       "      <td>-0.000114</td>\n",
       "      <td>-0.000200</td>\n",
       "      <td>-0.000240</td>\n",
       "      <td>-0.000200</td>\n",
       "      <td>-0.000114</td>\n",
       "      <td>-0.000043</td>\n",
       "      <td>-0.000010</td>\n",
       "      <td>...</td>\n",
       "      <td>-0.000086</td>\n",
       "      <td>-0.000043</td>\n",
       "      <td>-0.000086</td>\n",
       "      <td>-0.000086</td>\n",
       "      <td>-0.000043</td>\n",
       "      <td>-0.000010</td>\n",
       "      <td>-0.000010</td>\n",
       "      <td>-0.000010</td>\n",
       "      <td>-9.536743e-07</td>\n",
       "      <td>2</td>\n",
       "    </tr>\n",
       "  </tbody>\n",
       "</table>\n",
       "<p>5 rows × 287 columns</p>\n",
       "</div>"
      ],
      "text/plain": [
       "           A0T0G0C10  A0T0G1C9  A0T0G2C8  A0T0G3C7  A0T0G4C6  A0T0G5C5  \\\n",
       "row_id                                                                   \n",
       "0      -9.536743e-07 -0.000010 -0.000043 -0.000114 -0.000200 -0.000240   \n",
       "1      -9.536743e-07 -0.000010 -0.000043  0.000886 -0.000200  0.000760   \n",
       "2      -9.536743e-07 -0.000002  0.000007  0.000129  0.000268  0.000270   \n",
       "3       4.632568e-08 -0.000006  0.000012  0.000245  0.000492  0.000522   \n",
       "4      -9.536743e-07 -0.000010 -0.000043 -0.000114 -0.000200 -0.000240   \n",
       "\n",
       "        A0T0G6C4  A0T0G7C3  A0T0G8C2  A0T0G9C1  ...  A8T0G1C1  A8T0G2C0  \\\n",
       "row_id                                          ...                       \n",
       "0      -0.000200 -0.000114 -0.000043 -0.000010  ... -0.000086 -0.000043   \n",
       "1      -0.000200 -0.000114 -0.000043 -0.000010  ... -0.000086 -0.000043   \n",
       "2       0.000243  0.000125  0.000001 -0.000007  ...  0.000084  0.000048   \n",
       "3       0.000396  0.000197 -0.000003 -0.000007  ...  0.000151  0.000100   \n",
       "4      -0.000200 -0.000114 -0.000043 -0.000010  ... -0.000086 -0.000043   \n",
       "\n",
       "        A8T1G0C1  A8T1G1C0  A8T2G0C0  A9T0G0C1  A9T0G1C0  A9T1G0C0  \\\n",
       "row_id                                                               \n",
       "0      -0.000086 -0.000086 -0.000043 -0.000010 -0.000010 -0.000010   \n",
       "1       0.000914  0.000914 -0.000043 -0.000010 -0.000010 -0.000010   \n",
       "2       0.000081  0.000106  0.000072  0.000010  0.000008  0.000019   \n",
       "3       0.000180  0.000202  0.000153  0.000021  0.000015  0.000046   \n",
       "4      -0.000086 -0.000086 -0.000043 -0.000010 -0.000010 -0.000010   \n",
       "\n",
       "           A10T0G0C0  target  \n",
       "row_id                        \n",
       "0      -9.536743e-07       0  \n",
       "1      -9.536743e-07       1  \n",
       "2       1.046326e-06       1  \n",
       "3      -9.536743e-07       1  \n",
       "4      -9.536743e-07       2  \n",
       "\n",
       "[5 rows x 287 columns]"
      ]
     },
     "execution_count": 16,
     "metadata": {},
     "output_type": "execute_result"
    }
   ],
   "source": [
    "# make another copy to prevent data change\n",
    "label_df_train = df_train.copy()\n",
    "\n",
    "# let's map with the dict that we create in the data set\n",
    "label_df_train['target'] = label_df_train['target'].map(ordinal_target)\n",
    "\n",
    "# let's check the data set after mapping/ ordinal encoding\n",
    "label_df_train.head()"
   ]
  },
  {
   "cell_type": "markdown",
   "id": "f0831659",
   "metadata": {
    "id": "f0831659"
   },
   "source": [
    "After the mapping, the data was ready for training the model and we can try it in a different.\n",
    "\n",
    "Let's work a simple XGBoost model and check with the result first."
   ]
  },
  {
   "cell_type": "markdown",
   "id": "OfiL_gZ7ztjc",
   "metadata": {
    "id": "OfiL_gZ7ztjc"
   },
   "source": [
    "### XGBoost"
   ]
  },
  {
   "cell_type": "markdown",
   "id": "5a6c01d0",
   "metadata": {
    "id": "5a6c01d0"
   },
   "source": [
    "In the XGBoost library, it got XGBoost Regressor & XGBoost Classifier. In the prediction, classification was needed and XGB Classifier will be used as the model."
   ]
  },
  {
   "cell_type": "code",
   "execution_count": 17,
   "id": "7a7e05c1",
   "metadata": {
    "id": "7a7e05c1"
   },
   "outputs": [],
   "source": [
    "# set up for machine learning libraries\n",
    "from xgboost import XGBClassifier\n",
    "from sklearn.model_selection import train_test_split\n",
    "from sklearn.metrics import accuracy_score"
   ]
  },
  {
   "cell_type": "markdown",
   "id": "a11b7e28",
   "metadata": {
    "id": "a11b7e28"
   },
   "source": [
    "Spliting of the data in data set is needed since the model performance needed to be determined."
   ]
  },
  {
   "cell_type": "code",
   "execution_count": 18,
   "id": "cc92da28",
   "metadata": {
    "id": "cc92da28"
   },
   "outputs": [],
   "source": [
    "# extract the features and the target\n",
    "X = label_df_train.drop('target', axis = 1)\n",
    "y = label_df_train['target']\n",
    "\n",
    "# set the test size with 10% first since there is 200000 samples\n",
    "test_size = 0.1\n",
    "# split the train data into training set & testing set for the model\n",
    "X_train, X_test, y_train, y_test = train_test_split(X, y, test_size = test_size)"
   ]
  },
  {
   "cell_type": "markdown",
   "id": "D4li7qXmGHx_",
   "metadata": {
    "id": "D4li7qXmGHx_"
   },
   "source": [
    "#### K-fold"
   ]
  },
  {
   "cell_type": "markdown",
   "id": "SPsN9VaAwSDq",
   "metadata": {
    "id": "SPsN9VaAwSDq"
   },
   "source": [
    "##### Sixth trial with K-fold"
   ]
  },
  {
   "cell_type": "markdown",
   "id": "0Rglh4elvs4f",
   "metadata": {
    "id": "0Rglh4elvs4f"
   },
   "source": [
    "There is no obvious improvement by changing those hyper-parameter. Instead of making adjustment of regularization, the estimator, max_depth of the model was changed this time. Evaluation metrix will be auc for classification. To run faster, GPU was involved to save more time as well. For the data, cross validation will be used to increase the accuracy. The final result will be in average of 5-fold validation."
   ]
  },
  {
   "cell_type": "code",
   "execution_count": 29,
   "id": "TjkeNZFAZXDM",
   "metadata": {
    "colab": {
     "base_uri": "https://localhost:8080/"
    },
    "id": "TjkeNZFAZXDM",
    "outputId": "fd0ba055-2911-4ec5-a40a-1405f964e356"
   },
   "outputs": [
    {
     "name": "stdout",
     "output_type": "stream",
     "text": [
      "Fold: 1\n",
      "Accuray: 0.97254\n",
      "Fold: 2\n",
      "Accuray: 0.97443\n",
      "Fold: 3\n",
      "Accuray: 0.97500\n",
      "Fold: 4\n",
      "Accuray: 0.97560\n",
      "Fold: 5\n",
      "Accuray: 0.97665\n"
     ]
    }
   ],
   "source": [
    "from sklearn.model_selection import RepeatedStratifiedKFold\n",
    "from sklearn.metrics import accuracy_score, classification_report\n",
    "\n",
    "# create a list to contain the reuslt & accuracy\n",
    "predictions = []\n",
    "scores = []\n",
    "\n",
    "# create a model for data fold\n",
    "rskf = RepeatedStratifiedKFold(n_splits = 5, n_repeats = 1)\n",
    "\n",
    "# iterate the folded data\n",
    "for fold, (train_idx, valid_idx) in enumerate(rskf.split(X,y)):\n",
    "\n",
    "    print(f\"Fold: {fold + 1}\")\n",
    "    # seperate the train data set and test data set\n",
    "    X_train, X_test = X.iloc[train_idx], X.iloc[valid_idx]\n",
    "    y_train, y_test = y.iloc[train_idx], y.iloc[valid_idx]\n",
    "\n",
    "    model = XGBClassifier(n_estimators = 1000, learning_rate = 0.05, objective = 'multi:softmax', \n",
    "                        max_depth = 10, booster = 'gbtree', gamma= 0,\n",
    "                        eval_metric = 'auc', tree_method = 'hist', use_label_encoder = False)\n",
    "    model.fit(X_train, y_train, verbose = 0)\n",
    "\n",
    "    y_pred = model.predict(X_test)\n",
    "    acc = accuracy_score(y_test, y_pred)\n",
    "    scores.append(acc)\n",
    "    print(f\"Accuray: {acc:.5f}\")\n",
    "\n",
    "    y_final = model.predict(df_test)\n",
    "    predictions.append(y_final)"
   ]
  },
  {
   "cell_type": "code",
   "execution_count": 30,
   "id": "JGocHfH8xosQ",
   "metadata": {
    "id": "JGocHfH8xosQ"
   },
   "outputs": [],
   "source": [
    "# take the result appeared most in 5-fold result and generate the submission to test the accuracy\n",
    "from scipy.stats import mode\n",
    "xgb_result = pd.DataFrame()\n",
    "xgb_result['row_id'] = df_test.index\n",
    "xgb_result['target'] = np.squeeze(mode(np.column_stack(predictions),axis = 1)[0]).astype('int')\n",
    "xgb_result['target'] = xgb_result['target'].map(reverse_target)\n",
    "xgb_result.to_csv(\"xgb_kfold_submission.csv\", index = False)"
   ]
  },
  {
   "cell_type": "markdown",
   "id": "776601a3",
   "metadata": {},
   "source": [
    "After the apply of K-fold & tuning the depth/ n_estimators of the XGBoost, the accuracy of the submission was increased to 0.94448. It's very obvious for the improvement. Let's apply more to enhance the accuracy."
   ]
  },
  {
   "cell_type": "markdown",
   "id": "-HYaCzvQwZte",
   "metadata": {
    "id": "-HYaCzvQwZte"
   },
   "source": [
    "##### Seventh with K-fold + PCA"
   ]
  },
  {
   "cell_type": "markdown",
   "id": "eYhCcVWky9tN",
   "metadata": {
    "id": "eYhCcVWky9tN"
   },
   "source": [
    "After the submission, it got a great improvement for the accuracy. Another thing we can do is that some features may not be useful to predict the result. Dimension reduction (PCA) will be useful to obtain a better result as well. Let's try to create a pipeline and work on it."
   ]
  },
  {
   "cell_type": "code",
   "execution_count": 31,
   "id": "fhUPOrJKD59_",
   "metadata": {
    "id": "fhUPOrJKD59_"
   },
   "outputs": [
    {
     "name": "stdout",
     "output_type": "stream",
     "text": [
      "Fold: 1\n",
      "Accuray: 0.95903\n",
      "Fold: 2\n",
      "Accuray: 0.95814\n",
      "Fold: 3\n",
      "Accuray: 0.96072\n",
      "Fold: 4\n",
      "Accuray: 0.95846\n",
      "Fold: 5\n",
      "Accuray: 0.95834\n"
     ]
    }
   ],
   "source": [
    "from sklearn.pipeline import Pipeline\n",
    "from sklearn.preprocessing import StandardScaler\n",
    "from sklearn.decomposition import PCA\n",
    "from sklearn.model_selection import StratifiedKFold, RepeatedStratifiedKFold\n",
    "from sklearn.metrics import accuracy_score, classification_report\n",
    "\n",
    "# create a list to contain the result\n",
    "predictions = []\n",
    "scores = []\n",
    "\n",
    "# create the model for stanadardization, PCA & XGBoost\n",
    "components = 0.85\n",
    "_sc = StandardScaler()\n",
    "_pca = PCA(n_components = components)\n",
    "_model = XGBClassifier(n_estimators = 1000, learning_rate = 0.05, objective = 'multi:softmax', \n",
    "                        max_depth = 10, booster = 'gbtree', gamma= 0,\n",
    "                        eval_metric = 'auc', tree_method = 'hist', use_label_encoder = False)\n",
    "# create the pipeline for work flow\n",
    "XGB_PCA_model = Pipeline([\n",
    "    ('std_scaler', _sc),\n",
    "    ('pca', _pca),\n",
    "    ('xgb', _model)\n",
    "])\n",
    "\n",
    "# create the model for data fold\n",
    "rskf = RepeatedStratifiedKFold(n_splits = 5, n_repeats = 1)\n",
    "\n",
    "# iterarte each fold of data set & fit in the pipeline\n",
    "for fold, (train_i, test_i) in enumerate(rskf.split(X,y)):\n",
    "\n",
    "    print(f\"Fold: {fold + 1}\")\n",
    "    X_train, X_test = X.iloc[train_i], X.iloc[test_i]\n",
    "    y_train, y_test = y.iloc[train_i], y.iloc[test_i]\n",
    "\n",
    "    # fit the model\n",
    "    XGB_PCA_model.fit(X_train,y_train)\n",
    "\n",
    "    # predict the result for accuracy\n",
    "    y_pred = XGB_PCA_model.predict(X_test)\n",
    "    acc = accuracy_score(y_test, y_pred)\n",
    "    scores.append(acc)\n",
    "    print(f\"Accuray: {acc:.5f}\")\n",
    "\n",
    "    y_final = XGB_PCA_model.predict(df_test)\n",
    "    predictions.append(y_final)"
   ]
  },
  {
   "cell_type": "code",
   "execution_count": 32,
   "id": "OluN5wtroaa2",
   "metadata": {
    "id": "OluN5wtroaa2"
   },
   "outputs": [],
   "source": [
    "# take the result appeared most in 5-fold result and generate the submission to test the accuracy\n",
    "from scipy.stats import mode\n",
    "xgb_result = pd.DataFrame()\n",
    "xgb_result['row_id'] = df_test.index\n",
    "xgb_result['target'] = np.squeeze(mode(np.column_stack(predictions),axis = 1)[0]).astype('int')\n",
    "xgb_result['target'] = xgb_result['target'].map(reverse_target)\n",
    "xgb_result.to_csv(\"xgb_pca_submission.csv\", index = False)"
   ]
  },
  {
   "cell_type": "markdown",
   "id": "a0a680c7",
   "metadata": {
    "id": "2_ZZAg0Rm_1N"
   },
   "source": [
    "The accuracy(0.86250) was decreased after applying PCA. Let's observe what PCA have done and is there any cluster that can be found."
   ]
  },
  {
   "cell_type": "code",
   "execution_count": 39,
   "id": "536f8964",
   "metadata": {},
   "outputs": [],
   "source": [
    "from sklearn.preprocessing import StandardScaler\n",
    "from sklearn.decomposition import PCA\n",
    "\n",
    "# create standard scaler model for standardization of the data\n",
    "sc =  StandardScaler()\n",
    "X_scaled = sc.fit_transform(X)\n",
    "\n",
    "# create PCA model and fit the data\n",
    "pca = PCA(n_components = 0.85)\n",
    "L = pca.fit_transform(X_scaled)"
   ]
  },
  {
   "cell_type": "code",
   "execution_count": 38,
   "id": "d2f057ce",
   "metadata": {
    "scrolled": true
   },
   "outputs": [
    {
     "name": "stdout",
     "output_type": "stream",
     "text": [
      "[20.41761335  7.27911686  3.43115258  2.05655606  1.71705063  1.05349918\n",
      "  0.7896095   0.68255598  0.58585997  0.56998717  0.52470883  0.50288879\n",
      "  0.47295258  0.45565496  0.45123871  0.44235416  0.43269578  0.4299844\n",
      "  0.42851927  0.4250417   0.42134952  0.41678211  0.41349296  0.41239353\n",
      "  0.40945322  0.40689441  0.40242211  0.40038908  0.39937742  0.39612713\n",
      "  0.393007    0.39088136  0.38876784  0.38591213  0.38463043  0.38207321\n",
      "  0.37999153  0.37850574  0.37606385  0.37483489  0.3735175   0.37256235\n",
      "  0.36907804  0.36721262  0.36456201  0.36301726  0.36161757  0.36071036\n",
      "  0.35891544  0.3572706   0.35614501  0.35352101  0.34961537  0.34859414\n",
      "  0.34697333  0.34641104  0.34433614  0.34255482  0.34122295  0.34029687\n",
      "  0.33813273  0.33690171  0.33490385  0.33406354  0.3329057   0.33192733\n",
      "  0.32882928  0.32702634  0.32660425  0.32390177  0.32324168  0.3216849\n",
      "  0.32019797  0.31834073  0.3169529   0.31408623  0.31269034  0.31071149\n",
      "  0.30924846  0.30825526  0.30715181  0.30444222  0.30382639  0.30351891\n",
      "  0.30214049  0.29995031  0.2989261   0.29570085  0.29559881  0.29439285\n",
      "  0.29136858  0.29084306  0.28778339  0.28498068  0.28392981  0.28359789\n",
      "  0.2821326   0.28006118  0.27883021  0.27781152  0.27592207  0.27517587\n",
      "  0.27437671  0.27070248  0.27037872  0.26927578  0.26737164  0.26507648\n",
      "  0.26370476  0.26285862  0.2620278   0.2615924   0.25882514  0.25840317\n",
      "  0.25641656  0.25478085  0.25396706  0.2531847   0.25132264  0.24910111\n",
      "  0.24884819  0.24764455  0.24742035  0.24398371  0.24289115  0.24204852\n",
      "  0.23998981  0.23913709  0.23714388  0.23581288  0.23376796  0.23228117\n",
      "  0.23169682  0.23144946  0.22916176  0.22866155  0.22730041  0.22633826\n",
      "  0.22474573  0.22300671  0.2225131   0.22102401  0.2195942   0.21869098\n",
      "  0.2183904   0.2157085   0.21482713  0.21237189  0.21094107  0.21004367\n",
      "  0.20848807  0.20701391  0.20691563  0.20534938  0.20452103  0.20294888\n",
      "  0.20202472  0.2009053   0.19930105  0.1979671   0.19526813  0.19489883]\n"
     ]
    }
   ],
   "source": [
    "# check the explained variance\n",
    "print(pca.explained_variance_ratio_ * 100)"
   ]
  },
  {
   "cell_type": "markdown",
   "id": "2d7fcb89",
   "metadata": {},
   "source": [
    "As first two component capture most of the variablility, let's plot it out for visualization and check is there cluster."
   ]
  },
  {
   "cell_type": "code",
   "execution_count": 43,
   "id": "7f915f98",
   "metadata": {},
   "outputs": [
    {
     "data": {
      "image/png": "[encoded data removed]",
      "text/plain": [
       "<Figure size 402.375x360 with 1 Axes>"
      ]
     },
     "metadata": {
      "needs_background": "light"
     },
     "output_type": "display_data"
    }
   ],
   "source": [
    "def pca_scatter(pca, standardised_values, classifs):\n",
    "    foo = pca.transform(standardised_values)\n",
    "    bar = pd.DataFrame(zip(foo[:,0], foo[:,1], classifs), columns = [\"PC1\",\"PC2\",\"Class\"])\n",
    "    sns.lmplot(data = bar, x = \"PC1\", y = \"PC2\", hue = \"Class\", fit_reg = False)\n",
    "    \n",
    "pca_scatter(pca, X_scaled, y)"
   ]
  },
  {
   "cell_type": "markdown",
   "id": "4e255408",
   "metadata": {},
   "source": [
    "##### Eightth with K-fold + PCA(None n_components)"
   ]
  },
  {
   "cell_type": "markdown",
   "id": "66e79ba4",
   "metadata": {},
   "source": [
    "Obviously, some cluster can be found but some sample was merged together and it may need more information for the model to learn. Therefore, let's change the components for PCA from 0.85 to None as it will return more components for XGBoost to train. Let's modify the components number and check with the explained variance."
   ]
  },
  {
   "cell_type": "code",
   "execution_count": 44,
   "id": "79468fb6",
   "metadata": {},
   "outputs": [],
   "source": [
    "from sklearn.preprocessing import StandardScaler\n",
    "from sklearn.decomposition import PCA\n",
    "\n",
    "# create standard scaler model for standardization of the data\n",
    "sc =  StandardScaler()\n",
    "X_scaled = sc.fit_transform(X)\n",
    "\n",
    "# create PCA model and fit the data\n",
    "pca = PCA(n_components = None)\n",
    "L = pca.fit_transform(X_scaled)"
   ]
  },
  {
   "cell_type": "code",
   "execution_count": 45,
   "id": "b8ae7b09",
   "metadata": {
    "scrolled": true
   },
   "outputs": [
    {
     "name": "stdout",
     "output_type": "stream",
     "text": [
      "[2.04176134e+01 7.27911686e+00 3.43115258e+00 2.05655606e+00\n",
      " 1.71705063e+00 1.05349918e+00 7.89609499e-01 6.82555977e-01\n",
      " 5.85859965e-01 5.69987166e-01 5.24708830e-01 5.02888789e-01\n",
      " 4.72952581e-01 4.55654963e-01 4.51238708e-01 4.42354157e-01\n",
      " 4.32695778e-01 4.29984401e-01 4.28519271e-01 4.25041699e-01\n",
      " 4.21349523e-01 4.16782107e-01 4.13492963e-01 4.12393528e-01\n",
      " 4.09453219e-01 4.06894411e-01 4.02422108e-01 4.00389082e-01\n",
      " 3.99377416e-01 3.96127129e-01 3.93006995e-01 3.90881359e-01\n",
      " 3.88767844e-01 3.85912128e-01 3.84630426e-01 3.82073210e-01\n",
      " 3.79991531e-01 3.78505737e-01 3.76063849e-01 3.74834890e-01\n",
      " 3.73517504e-01 3.72562346e-01 3.69078036e-01 3.67212624e-01\n",
      " 3.64562013e-01 3.63017256e-01 3.61617568e-01 3.60710365e-01\n",
      " 3.58915442e-01 3.57270601e-01 3.56145006e-01 3.53521014e-01\n",
      " 3.49615374e-01 3.48594144e-01 3.46973331e-01 3.46411044e-01\n",
      " 3.44336136e-01 3.42554817e-01 3.41222952e-01 3.40296870e-01\n",
      " 3.38132734e-01 3.36901706e-01 3.34903848e-01 3.34063542e-01\n",
      " 3.32905697e-01 3.31927326e-01 3.28829279e-01 3.27026342e-01\n",
      " 3.26604245e-01 3.23901766e-01 3.23241679e-01 3.21684897e-01\n",
      " 3.20197970e-01 3.18340734e-01 3.16952897e-01 3.14086225e-01\n",
      " 3.12690342e-01 3.10711490e-01 3.09248460e-01 3.08255257e-01\n",
      " 3.07151811e-01 3.04442218e-01 3.03826393e-01 3.03518912e-01\n",
      " 3.02140491e-01 2.99950309e-01 2.98926105e-01 2.95700853e-01\n",
      " 2.95598807e-01 2.94392848e-01 2.91368576e-01 2.90843060e-01\n",
      " 2.87783387e-01 2.84980684e-01 2.83929807e-01 2.83597891e-01\n",
      " 2.82132596e-01 2.80061177e-01 2.78830207e-01 2.77811525e-01\n",
      " 2.75922070e-01 2.75175871e-01 2.74376714e-01 2.70702478e-01\n",
      " 2.70378721e-01 2.69275776e-01 2.67371638e-01 2.65076480e-01\n",
      " 2.63704760e-01 2.62858625e-01 2.62027801e-01 2.61592398e-01\n",
      " 2.58825144e-01 2.58403166e-01 2.56416558e-01 2.54780849e-01\n",
      " 2.53967060e-01 2.53184700e-01 2.51322644e-01 2.49101113e-01\n",
      " 2.48848187e-01 2.47644555e-01 2.47420355e-01 2.43983713e-01\n",
      " 2.42891149e-01 2.42048520e-01 2.39989810e-01 2.39137095e-01\n",
      " 2.37143885e-01 2.35812883e-01 2.33767955e-01 2.32281170e-01\n",
      " 2.31696819e-01 2.31449456e-01 2.29161758e-01 2.28661547e-01\n",
      " 2.27300415e-01 2.26338256e-01 2.24745733e-01 2.23006706e-01\n",
      " 2.22513103e-01 2.21024015e-01 2.19594195e-01 2.18690980e-01\n",
      " 2.18390397e-01 2.15708499e-01 2.14827131e-01 2.12371886e-01\n",
      " 2.10941071e-01 2.10043665e-01 2.08488068e-01 2.07013915e-01\n",
      " 2.06915635e-01 2.05349381e-01 2.04521034e-01 2.02948882e-01\n",
      " 2.02024716e-01 2.00905297e-01 1.99301054e-01 1.97967104e-01\n",
      " 1.95268125e-01 1.94898828e-01 1.94668320e-01 1.93187261e-01\n",
      " 1.93089566e-01 1.90936421e-01 1.89840622e-01 1.88197393e-01\n",
      " 1.87637059e-01 1.85306607e-01 1.84684141e-01 1.83976103e-01\n",
      " 1.82989341e-01 1.80851036e-01 1.80160824e-01 1.78551617e-01\n",
      " 1.77850209e-01 1.77014272e-01 1.74770593e-01 1.73784649e-01\n",
      " 1.72299579e-01 1.71816675e-01 1.69533119e-01 1.68276821e-01\n",
      " 1.67249538e-01 1.66315264e-01 1.64942746e-01 1.64555390e-01\n",
      " 1.63020845e-01 1.62390239e-01 1.60518081e-01 1.59760857e-01\n",
      " 1.57742785e-01 1.57064673e-01 1.54934136e-01 1.53659890e-01\n",
      " 1.52732528e-01 1.52261577e-01 1.51073208e-01 1.48620712e-01\n",
      " 1.47561476e-01 1.47050715e-01 1.45727485e-01 1.44657121e-01\n",
      " 1.43012525e-01 1.42276423e-01 1.41391388e-01 1.39517209e-01\n",
      " 1.39400821e-01 1.38579595e-01 1.36746112e-01 1.35480981e-01\n",
      " 1.33767820e-01 1.33436353e-01 1.32855149e-01 1.30683472e-01\n",
      " 1.29571522e-01 1.28588229e-01 1.27035719e-01 1.25673602e-01\n",
      " 1.24532765e-01 1.23838001e-01 1.23399356e-01 1.21692766e-01\n",
      " 1.20790116e-01 1.18937813e-01 1.18204053e-01 1.17721204e-01\n",
      " 1.16375231e-01 1.15027182e-01 1.13899864e-01 1.12263801e-01\n",
      " 1.11708179e-01 1.10296602e-01 1.08405886e-01 1.07958863e-01\n",
      " 1.06600671e-01 1.06268576e-01 1.05787745e-01 1.04937118e-01\n",
      " 1.03363866e-01 1.02582710e-01 1.01919098e-01 1.01281893e-01\n",
      " 1.00540935e-01 9.87978637e-02 9.80858783e-02 9.64179735e-02\n",
      " 9.60943049e-02 9.48547769e-02 9.38470801e-02 9.26054167e-02\n",
      " 9.17138131e-02 9.11480298e-02 9.03571782e-02 8.85520513e-02\n",
      " 8.68629784e-02 8.48154915e-02 8.45295950e-02 8.23791403e-02\n",
      " 8.02562000e-02 7.91489218e-02 7.74916303e-02 7.59943611e-02\n",
      " 7.42432800e-02 7.26134513e-02 7.11813921e-02 6.96084667e-02\n",
      " 6.72928854e-02 6.63069022e-02 6.39743770e-02 6.07713020e-02\n",
      " 5.95797711e-02 5.90572763e-02 5.70560156e-02 5.60744171e-02\n",
      " 5.38218946e-02 5.24482837e-02 4.87190317e-02 4.78098871e-02\n",
      " 4.40718982e-02 4.23195123e-02 4.04146341e-02 3.83669137e-02\n",
      " 3.70830676e-02 4.12111097e-28]\n"
     ]
    }
   ],
   "source": [
    "# check the explained variance\n",
    "print(pca.explained_variance_ratio_ * 100)"
   ]
  },
  {
   "cell_type": "markdown",
   "id": "be88c468",
   "metadata": {},
   "source": [
    "After the change of n_components, more components was obtained. It means it may provide more information than before. Let's run XGBoost again and check for the improvement of the accuracy."
   ]
  },
  {
   "cell_type": "code",
   "execution_count": 46,
   "id": "a722508f",
   "metadata": {
    "id": "fhUPOrJKD59_"
   },
   "outputs": [
    {
     "name": "stdout",
     "output_type": "stream",
     "text": [
      "Fold: 1\n",
      "Accuray: 0.96500\n",
      "Fold: 2\n",
      "Accuray: 0.96218\n",
      "Fold: 3\n",
      "Accuray: 0.96419\n",
      "Fold: 4\n",
      "Accuray: 0.96024\n",
      "Fold: 5\n",
      "Accuray: 0.96290\n"
     ]
    }
   ],
   "source": [
    "from sklearn.pipeline import Pipeline\n",
    "from sklearn.preprocessing import StandardScaler\n",
    "from sklearn.decomposition import PCA\n",
    "from sklearn.model_selection import StratifiedKFold, RepeatedStratifiedKFold\n",
    "from sklearn.metrics import accuracy_score, classification_report\n",
    "\n",
    "# create a list to contain the result\n",
    "predictions = []\n",
    "scores = []\n",
    "\n",
    "# create the model for stanadardization, PCA & XGBoost\n",
    "components = None\n",
    "_sc = StandardScaler()\n",
    "_pca = PCA(n_components = components)\n",
    "_model = XGBClassifier(n_estimators = 1000, learning_rate = 0.05, objective = 'multi:softmax', \n",
    "                        max_depth = 10, booster = 'gbtree', gamma= 0,\n",
    "                        eval_metric = 'auc', tree_method = 'hist', use_label_encoder = False)\n",
    "# create the pipeline for work flow\n",
    "XGB_PCA_model = Pipeline([\n",
    "    ('std_scaler', _sc),\n",
    "    ('pca', _pca),\n",
    "    ('xgb', _model)\n",
    "])\n",
    "\n",
    "# create the model for data fold\n",
    "rskf = RepeatedStratifiedKFold(n_splits = 5, n_repeats = 1)\n",
    "\n",
    "# iterarte each fold of data set & fit in the pipeline\n",
    "for fold, (train_i, test_i) in enumerate(rskf.split(X,y)):\n",
    "\n",
    "    print(f\"Fold: {fold + 1}\")\n",
    "    X_train, X_test = X.iloc[train_i], X.iloc[test_i]\n",
    "    y_train, y_test = y.iloc[train_i], y.iloc[test_i]\n",
    "\n",
    "    # fit the model\n",
    "    XGB_PCA_model.fit(X_train,y_train)\n",
    "\n",
    "    # predict the result for accuracy\n",
    "    y_pred = XGB_PCA_model.predict(X_test)\n",
    "    acc = accuracy_score(y_test, y_pred)\n",
    "    scores.append(acc)\n",
    "    print(f\"Accuray: {acc:.5f}\")\n",
    "\n",
    "    y_final = XGB_PCA_model.predict(df_test)\n",
    "    predictions.append(y_final)"
   ]
  },
  {
   "cell_type": "code",
   "execution_count": 47,
   "id": "c3e4c6d0",
   "metadata": {
    "id": "OluN5wtroaa2"
   },
   "outputs": [],
   "source": [
    "# take the result appeared most in 5-fold result and generate the submission to test the accuracy\n",
    "from scipy.stats import mode\n",
    "xgb_result = pd.DataFrame()\n",
    "xgb_result['row_id'] = df_test.index\n",
    "xgb_result['target'] = np.squeeze(mode(np.column_stack(predictions),axis = 1)[0]).astype('int')\n",
    "xgb_result['target'] = xgb_result['target'].map(reverse_target)\n",
    "xgb_result.to_csv(\"xgb_pca_submission.csv\", index = False)"
   ]
  },
  {
   "cell_type": "markdown",
   "id": "91b3449a",
   "metadata": {},
   "source": [
    "By setting the n_components to None, number of features of PC was returned. Putting it all into the XGBoost model, it do improved the accuracy a little bit (0.87796). Although the accuracy was improved, it was still lowest than the sixth submission."
   ]
  },
  {
   "cell_type": "code",
   "execution_count": null,
   "id": "9d4972eb",
   "metadata": {},
   "outputs": [],
   "source": []
  }
 ],
 "metadata": {
  "accelerator": "GPU",
  "colab": {
   "collapsed_sections": [
    "f18a6d46"
   ],
   "name": "tabular_playground_series_feb_2022-XGBoost.ipynb",
   "provenance": []
  },
  "kernelspec": {
   "display_name": "Python [conda env:sklearn-env] *",
   "language": "python",
   "name": "conda-env-sklearn-env-py"
  },
  "language_info": {
   "codemirror_mode": {
    "name": "ipython",
    "version": 3
   },
   "file_extension": ".py",
   "mimetype": "text/x-python",
   "name": "python",
   "nbconvert_exporter": "python",
   "pygments_lexer": "ipython3",
   "version": "3.9.7"
  }
 },
 "nbformat": 4,
 "nbformat_minor": 5
}
