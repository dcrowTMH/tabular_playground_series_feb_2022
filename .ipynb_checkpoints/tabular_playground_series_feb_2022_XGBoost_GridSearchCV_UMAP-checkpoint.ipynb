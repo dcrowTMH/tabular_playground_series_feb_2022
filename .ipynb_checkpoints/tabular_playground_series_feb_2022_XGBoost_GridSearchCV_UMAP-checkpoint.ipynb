{
 "cells": [
  {
   "cell_type": "markdown",
   "id": "46fecb9a",
   "metadata": {
    "id": "46fecb9a"
   },
   "source": [
    "# Tabular Playground Series - Feb 2022\n",
    "\n",
    "This dataset is aimed to practive ML skills by using the genomic analysis technique data with some data compression and data loss.\n",
    "\n",
    "ATATGGCCTT will be represented as A2T4G2C2 instead of the sequence.\n",
    "\n",
    "Let's start with checking the data set and let's find out some direction for analysis.\n",
    "\n",
    "PS. This is my first notebook for a competition and I find it very fun. I hope you guys will enjoy watch it and please feel free to leave a comment for further discussion. What I have done was learnt by other experts on Kaggle or video. I think it will be great to have a practical notebook and try to ask for suggestion from others instead of keep watching the video. Thanks for watching & have fun!"
   ]
  },
  {
   "cell_type": "markdown",
   "id": "4f26e1a0",
   "metadata": {
    "id": "4f26e1a0"
   },
   "source": [
    "## Next Step & Discussion:\n",
    "\n",
    "UMAP may not be a good technique for this data set since there is no pattern & cluster can be found. It is great to preview the scatter plot first since it gave a lot of information that the UMAP is helpful or not.\n",
    "GridSearchCV is great as well since it can help to tune the hyper-parameter. GridSearchCV can be used again for further tuning but it may need to cost a lot of time and computational power. Next, the other model for classification can be used since the accuracy for XGBoost is hard to improve or it is hard to adjust the perfect one. Let's try again in the future."
   ]
  },
  {
   "cell_type": "markdown",
   "id": "fc3e6491",
   "metadata": {
    "id": "fc3e6491"
   },
   "source": [
    "#### Result of the submission\n",
    "\n",
    "17/02/2022 First trial (XGBoost): Score = 0.90366, Rank = 701\n",
    "\n",
    "18/02/2022 Second trial (XGBoost) : Score = 0.91611, Rank = 720 (Accuracy was increased)\n",
    "\n",
    "19/02/2022 Third trial (XGBoost with higher lambda & alpha): Score = 0.90005, Rank = NA\n",
    "\n",
    "19/02/2022 Fourth trial (XGBoost with 100 lambda & alpha): Score = 0.82967, Rank = NA\n",
    "\n",
    "19/02/2022 Fifth trial (XGBoost with no gamma + Second trial regularization): Score = 0.91781, Rank = 724\n",
    "\n",
    "21/02/2022 Sixth trial (XGBoost with 10-fold & depth adjusted): Score = 0.94448, Rank = 679\n",
    "\n",
    "22/02/2022 Seventh trial (XGBoost with 5-fold & PCA): Score = 0.86250, Rank = NA\n",
    "\n",
    "22/02/2022 Eighth trial (XGBoost with 5-fold & features amount PCA): Score = 0.87796, Rank = NA \n",
    "\n",
    "26/02/2022 Ninth trial (XGBoost with GridSearchCV): Score = 0.93042, Rank = NA\n",
    "\n",
    "26/02/2022 Tenth trial (XGBoost with UMAP): Score = 0.78098, Rank = NA"
   ]
  },
  {
   "cell_type": "code",
   "execution_count": 1,
   "id": "a02bf331",
   "metadata": {
    "id": "a02bf331"
   },
   "outputs": [],
   "source": [
    "# libraries set up\n",
    "import pandas as pd\n",
    "import numpy as np\n",
    "import sklearn\n",
    "import seaborn as sns\n",
    "import matplotlib.pyplot as plt"
   ]
  },
  {
   "cell_type": "code",
   "execution_count": 2,
   "id": "a24bcd40",
   "metadata": {
    "id": "a24bcd40"
   },
   "outputs": [],
   "source": [
    "# read the data\n",
    "train_path = 'Data/train.csv'\n",
    "test_path = 'Data/test.csv'\n",
    "\n",
    "train_set = pd.read_csv(train_path, index_col = 0)\n",
    "test_set = pd.read_csv(test_path, index_col = 0)"
   ]
  },
  {
   "cell_type": "code",
   "execution_count": 3,
   "id": "03e87493",
   "metadata": {
    "colab": {
     "base_uri": "https://localhost:8080/",
     "height": 413
    },
    "id": "03e87493",
    "outputId": "e88af3ed-ca2d-4bef-bd92-188b1f8ad668",
    "scrolled": true
   },
   "outputs": [
    {
     "data": {
      "text/html": [
       "<div>\n",
       "<style scoped>\n",
       "    .dataframe tbody tr th:only-of-type {\n",
       "        vertical-align: middle;\n",
       "    }\n",
       "\n",
       "    .dataframe tbody tr th {\n",
       "        vertical-align: top;\n",
       "    }\n",
       "\n",
       "    .dataframe thead th {\n",
       "        text-align: right;\n",
       "    }\n",
       "</style>\n",
       "<table border=\"1\" class=\"dataframe\">\n",
       "  <thead>\n",
       "    <tr style=\"text-align: right;\">\n",
       "      <th></th>\n",
       "      <th>A0T0G0C10</th>\n",
       "      <th>A0T0G1C9</th>\n",
       "      <th>A0T0G2C8</th>\n",
       "      <th>A0T0G3C7</th>\n",
       "      <th>A0T0G4C6</th>\n",
       "      <th>A0T0G5C5</th>\n",
       "      <th>A0T0G6C4</th>\n",
       "      <th>A0T0G7C3</th>\n",
       "      <th>A0T0G8C2</th>\n",
       "      <th>A0T0G9C1</th>\n",
       "      <th>...</th>\n",
       "      <th>A8T0G1C1</th>\n",
       "      <th>A8T0G2C0</th>\n",
       "      <th>A8T1G0C1</th>\n",
       "      <th>A8T1G1C0</th>\n",
       "      <th>A8T2G0C0</th>\n",
       "      <th>A9T0G0C1</th>\n",
       "      <th>A9T0G1C0</th>\n",
       "      <th>A9T1G0C0</th>\n",
       "      <th>A10T0G0C0</th>\n",
       "      <th>target</th>\n",
       "    </tr>\n",
       "    <tr>\n",
       "      <th>row_id</th>\n",
       "      <th></th>\n",
       "      <th></th>\n",
       "      <th></th>\n",
       "      <th></th>\n",
       "      <th></th>\n",
       "      <th></th>\n",
       "      <th></th>\n",
       "      <th></th>\n",
       "      <th></th>\n",
       "      <th></th>\n",
       "      <th></th>\n",
       "      <th></th>\n",
       "      <th></th>\n",
       "      <th></th>\n",
       "      <th></th>\n",
       "      <th></th>\n",
       "      <th></th>\n",
       "      <th></th>\n",
       "      <th></th>\n",
       "      <th></th>\n",
       "      <th></th>\n",
       "    </tr>\n",
       "  </thead>\n",
       "  <tbody>\n",
       "    <tr>\n",
       "      <th>0</th>\n",
       "      <td>-9.536743e-07</td>\n",
       "      <td>-0.000010</td>\n",
       "      <td>-0.000043</td>\n",
       "      <td>-0.000114</td>\n",
       "      <td>-0.000200</td>\n",
       "      <td>-0.000240</td>\n",
       "      <td>-0.000200</td>\n",
       "      <td>-0.000114</td>\n",
       "      <td>-0.000043</td>\n",
       "      <td>-0.000010</td>\n",
       "      <td>...</td>\n",
       "      <td>-0.000086</td>\n",
       "      <td>-0.000043</td>\n",
       "      <td>-0.000086</td>\n",
       "      <td>-0.000086</td>\n",
       "      <td>-0.000043</td>\n",
       "      <td>-0.000010</td>\n",
       "      <td>-0.000010</td>\n",
       "      <td>-0.000010</td>\n",
       "      <td>-9.536743e-07</td>\n",
       "      <td>Streptococcus_pyogenes</td>\n",
       "    </tr>\n",
       "    <tr>\n",
       "      <th>1</th>\n",
       "      <td>-9.536743e-07</td>\n",
       "      <td>-0.000010</td>\n",
       "      <td>-0.000043</td>\n",
       "      <td>0.000886</td>\n",
       "      <td>-0.000200</td>\n",
       "      <td>0.000760</td>\n",
       "      <td>-0.000200</td>\n",
       "      <td>-0.000114</td>\n",
       "      <td>-0.000043</td>\n",
       "      <td>-0.000010</td>\n",
       "      <td>...</td>\n",
       "      <td>-0.000086</td>\n",
       "      <td>-0.000043</td>\n",
       "      <td>0.000914</td>\n",
       "      <td>0.000914</td>\n",
       "      <td>-0.000043</td>\n",
       "      <td>-0.000010</td>\n",
       "      <td>-0.000010</td>\n",
       "      <td>-0.000010</td>\n",
       "      <td>-9.536743e-07</td>\n",
       "      <td>Salmonella_enterica</td>\n",
       "    </tr>\n",
       "    <tr>\n",
       "      <th>2</th>\n",
       "      <td>-9.536743e-07</td>\n",
       "      <td>-0.000002</td>\n",
       "      <td>0.000007</td>\n",
       "      <td>0.000129</td>\n",
       "      <td>0.000268</td>\n",
       "      <td>0.000270</td>\n",
       "      <td>0.000243</td>\n",
       "      <td>0.000125</td>\n",
       "      <td>0.000001</td>\n",
       "      <td>-0.000007</td>\n",
       "      <td>...</td>\n",
       "      <td>0.000084</td>\n",
       "      <td>0.000048</td>\n",
       "      <td>0.000081</td>\n",
       "      <td>0.000106</td>\n",
       "      <td>0.000072</td>\n",
       "      <td>0.000010</td>\n",
       "      <td>0.000008</td>\n",
       "      <td>0.000019</td>\n",
       "      <td>1.046326e-06</td>\n",
       "      <td>Salmonella_enterica</td>\n",
       "    </tr>\n",
       "    <tr>\n",
       "      <th>3</th>\n",
       "      <td>4.632568e-08</td>\n",
       "      <td>-0.000006</td>\n",
       "      <td>0.000012</td>\n",
       "      <td>0.000245</td>\n",
       "      <td>0.000492</td>\n",
       "      <td>0.000522</td>\n",
       "      <td>0.000396</td>\n",
       "      <td>0.000197</td>\n",
       "      <td>-0.000003</td>\n",
       "      <td>-0.000007</td>\n",
       "      <td>...</td>\n",
       "      <td>0.000151</td>\n",
       "      <td>0.000100</td>\n",
       "      <td>0.000180</td>\n",
       "      <td>0.000202</td>\n",
       "      <td>0.000153</td>\n",
       "      <td>0.000021</td>\n",
       "      <td>0.000015</td>\n",
       "      <td>0.000046</td>\n",
       "      <td>-9.536743e-07</td>\n",
       "      <td>Salmonella_enterica</td>\n",
       "    </tr>\n",
       "    <tr>\n",
       "      <th>4</th>\n",
       "      <td>-9.536743e-07</td>\n",
       "      <td>-0.000010</td>\n",
       "      <td>-0.000043</td>\n",
       "      <td>-0.000114</td>\n",
       "      <td>-0.000200</td>\n",
       "      <td>-0.000240</td>\n",
       "      <td>-0.000200</td>\n",
       "      <td>-0.000114</td>\n",
       "      <td>-0.000043</td>\n",
       "      <td>-0.000010</td>\n",
       "      <td>...</td>\n",
       "      <td>-0.000086</td>\n",
       "      <td>-0.000043</td>\n",
       "      <td>-0.000086</td>\n",
       "      <td>-0.000086</td>\n",
       "      <td>-0.000043</td>\n",
       "      <td>-0.000010</td>\n",
       "      <td>-0.000010</td>\n",
       "      <td>-0.000010</td>\n",
       "      <td>-9.536743e-07</td>\n",
       "      <td>Enterococcus_hirae</td>\n",
       "    </tr>\n",
       "  </tbody>\n",
       "</table>\n",
       "<p>5 rows × 287 columns</p>\n",
       "</div>"
      ],
      "text/plain": [
       "           A0T0G0C10  A0T0G1C9  A0T0G2C8  A0T0G3C7  A0T0G4C6  A0T0G5C5  \\\n",
       "row_id                                                                   \n",
       "0      -9.536743e-07 -0.000010 -0.000043 -0.000114 -0.000200 -0.000240   \n",
       "1      -9.536743e-07 -0.000010 -0.000043  0.000886 -0.000200  0.000760   \n",
       "2      -9.536743e-07 -0.000002  0.000007  0.000129  0.000268  0.000270   \n",
       "3       4.632568e-08 -0.000006  0.000012  0.000245  0.000492  0.000522   \n",
       "4      -9.536743e-07 -0.000010 -0.000043 -0.000114 -0.000200 -0.000240   \n",
       "\n",
       "        A0T0G6C4  A0T0G7C3  A0T0G8C2  A0T0G9C1  ...  A8T0G1C1  A8T0G2C0  \\\n",
       "row_id                                          ...                       \n",
       "0      -0.000200 -0.000114 -0.000043 -0.000010  ... -0.000086 -0.000043   \n",
       "1      -0.000200 -0.000114 -0.000043 -0.000010  ... -0.000086 -0.000043   \n",
       "2       0.000243  0.000125  0.000001 -0.000007  ...  0.000084  0.000048   \n",
       "3       0.000396  0.000197 -0.000003 -0.000007  ...  0.000151  0.000100   \n",
       "4      -0.000200 -0.000114 -0.000043 -0.000010  ... -0.000086 -0.000043   \n",
       "\n",
       "        A8T1G0C1  A8T1G1C0  A8T2G0C0  A9T0G0C1  A9T0G1C0  A9T1G0C0  \\\n",
       "row_id                                                               \n",
       "0      -0.000086 -0.000086 -0.000043 -0.000010 -0.000010 -0.000010   \n",
       "1       0.000914  0.000914 -0.000043 -0.000010 -0.000010 -0.000010   \n",
       "2       0.000081  0.000106  0.000072  0.000010  0.000008  0.000019   \n",
       "3       0.000180  0.000202  0.000153  0.000021  0.000015  0.000046   \n",
       "4      -0.000086 -0.000086 -0.000043 -0.000010 -0.000010 -0.000010   \n",
       "\n",
       "           A10T0G0C0                  target  \n",
       "row_id                                        \n",
       "0      -9.536743e-07  Streptococcus_pyogenes  \n",
       "1      -9.536743e-07     Salmonella_enterica  \n",
       "2       1.046326e-06     Salmonella_enterica  \n",
       "3      -9.536743e-07     Salmonella_enterica  \n",
       "4      -9.536743e-07      Enterococcus_hirae  \n",
       "\n",
       "[5 rows x 287 columns]"
      ]
     },
     "execution_count": 3,
     "metadata": {},
     "output_type": "execute_result"
    }
   ],
   "source": [
    "# preview for the train data\n",
    "df_train = train_set.copy()\n",
    "df_train.head()"
   ]
  },
  {
   "cell_type": "code",
   "execution_count": 4,
   "id": "6a401eda",
   "metadata": {
    "colab": {
     "base_uri": "https://localhost:8080/",
     "height": 413
    },
    "id": "6a401eda",
    "outputId": "44455507-f2ae-46b6-b9de-55b36d0faac0"
   },
   "outputs": [
    {
     "data": {
      "text/html": [
       "<div>\n",
       "<style scoped>\n",
       "    .dataframe tbody tr th:only-of-type {\n",
       "        vertical-align: middle;\n",
       "    }\n",
       "\n",
       "    .dataframe tbody tr th {\n",
       "        vertical-align: top;\n",
       "    }\n",
       "\n",
       "    .dataframe thead th {\n",
       "        text-align: right;\n",
       "    }\n",
       "</style>\n",
       "<table border=\"1\" class=\"dataframe\">\n",
       "  <thead>\n",
       "    <tr style=\"text-align: right;\">\n",
       "      <th></th>\n",
       "      <th>A0T0G0C10</th>\n",
       "      <th>A0T0G1C9</th>\n",
       "      <th>A0T0G2C8</th>\n",
       "      <th>A0T0G3C7</th>\n",
       "      <th>A0T0G4C6</th>\n",
       "      <th>A0T0G5C5</th>\n",
       "      <th>A0T0G6C4</th>\n",
       "      <th>A0T0G7C3</th>\n",
       "      <th>A0T0G8C2</th>\n",
       "      <th>A0T0G9C1</th>\n",
       "      <th>...</th>\n",
       "      <th>A8T0G0C2</th>\n",
       "      <th>A8T0G1C1</th>\n",
       "      <th>A8T0G2C0</th>\n",
       "      <th>A8T1G0C1</th>\n",
       "      <th>A8T1G1C0</th>\n",
       "      <th>A8T2G0C0</th>\n",
       "      <th>A9T0G0C1</th>\n",
       "      <th>A9T0G1C0</th>\n",
       "      <th>A9T1G0C0</th>\n",
       "      <th>A10T0G0C0</th>\n",
       "    </tr>\n",
       "    <tr>\n",
       "      <th>row_id</th>\n",
       "      <th></th>\n",
       "      <th></th>\n",
       "      <th></th>\n",
       "      <th></th>\n",
       "      <th></th>\n",
       "      <th></th>\n",
       "      <th></th>\n",
       "      <th></th>\n",
       "      <th></th>\n",
       "      <th></th>\n",
       "      <th></th>\n",
       "      <th></th>\n",
       "      <th></th>\n",
       "      <th></th>\n",
       "      <th></th>\n",
       "      <th></th>\n",
       "      <th></th>\n",
       "      <th></th>\n",
       "      <th></th>\n",
       "      <th></th>\n",
       "      <th></th>\n",
       "    </tr>\n",
       "  </thead>\n",
       "  <tbody>\n",
       "    <tr>\n",
       "      <th>200000</th>\n",
       "      <td>-9.536743e-07</td>\n",
       "      <td>-0.000002</td>\n",
       "      <td>-9.153442e-07</td>\n",
       "      <td>0.000024</td>\n",
       "      <td>0.000034</td>\n",
       "      <td>-0.000002</td>\n",
       "      <td>0.000021</td>\n",
       "      <td>0.000024</td>\n",
       "      <td>-0.000009</td>\n",
       "      <td>-0.000008</td>\n",
       "      <td>...</td>\n",
       "      <td>0.000039</td>\n",
       "      <td>0.000085</td>\n",
       "      <td>0.000055</td>\n",
       "      <td>0.000108</td>\n",
       "      <td>0.000090</td>\n",
       "      <td>0.000059</td>\n",
       "      <td>0.000010</td>\n",
       "      <td>0.000006</td>\n",
       "      <td>0.000027</td>\n",
       "      <td>4.632568e-08</td>\n",
       "    </tr>\n",
       "    <tr>\n",
       "      <th>200001</th>\n",
       "      <td>-9.536743e-07</td>\n",
       "      <td>-0.000010</td>\n",
       "      <td>-4.291534e-05</td>\n",
       "      <td>-0.000114</td>\n",
       "      <td>0.001800</td>\n",
       "      <td>-0.000240</td>\n",
       "      <td>0.001800</td>\n",
       "      <td>-0.000114</td>\n",
       "      <td>0.000957</td>\n",
       "      <td>-0.000010</td>\n",
       "      <td>...</td>\n",
       "      <td>-0.000043</td>\n",
       "      <td>0.000914</td>\n",
       "      <td>-0.000043</td>\n",
       "      <td>-0.000086</td>\n",
       "      <td>-0.000086</td>\n",
       "      <td>-0.000043</td>\n",
       "      <td>-0.000010</td>\n",
       "      <td>-0.000010</td>\n",
       "      <td>-0.000010</td>\n",
       "      <td>-9.536743e-07</td>\n",
       "    </tr>\n",
       "    <tr>\n",
       "      <th>200002</th>\n",
       "      <td>4.632568e-08</td>\n",
       "      <td>0.000003</td>\n",
       "      <td>8.465576e-08</td>\n",
       "      <td>-0.000014</td>\n",
       "      <td>0.000007</td>\n",
       "      <td>-0.000005</td>\n",
       "      <td>-0.000004</td>\n",
       "      <td>0.000003</td>\n",
       "      <td>0.000004</td>\n",
       "      <td>-0.000008</td>\n",
       "      <td>...</td>\n",
       "      <td>0.000041</td>\n",
       "      <td>0.000102</td>\n",
       "      <td>0.000084</td>\n",
       "      <td>0.000111</td>\n",
       "      <td>0.000117</td>\n",
       "      <td>0.000070</td>\n",
       "      <td>0.000020</td>\n",
       "      <td>0.000030</td>\n",
       "      <td>0.000021</td>\n",
       "      <td>4.632568e-08</td>\n",
       "    </tr>\n",
       "    <tr>\n",
       "      <th>200003</th>\n",
       "      <td>-9.536743e-07</td>\n",
       "      <td>-0.000008</td>\n",
       "      <td>8.084656e-06</td>\n",
       "      <td>0.000216</td>\n",
       "      <td>0.000420</td>\n",
       "      <td>0.000514</td>\n",
       "      <td>0.000452</td>\n",
       "      <td>0.000187</td>\n",
       "      <td>-0.000005</td>\n",
       "      <td>-0.000008</td>\n",
       "      <td>...</td>\n",
       "      <td>0.000069</td>\n",
       "      <td>0.000158</td>\n",
       "      <td>0.000098</td>\n",
       "      <td>0.000175</td>\n",
       "      <td>0.000217</td>\n",
       "      <td>0.000150</td>\n",
       "      <td>0.000018</td>\n",
       "      <td>0.000016</td>\n",
       "      <td>0.000051</td>\n",
       "      <td>-9.536743e-07</td>\n",
       "    </tr>\n",
       "    <tr>\n",
       "      <th>200004</th>\n",
       "      <td>-9.536743e-07</td>\n",
       "      <td>-0.000010</td>\n",
       "      <td>-4.291534e-05</td>\n",
       "      <td>-0.000114</td>\n",
       "      <td>-0.000200</td>\n",
       "      <td>-0.000240</td>\n",
       "      <td>-0.000200</td>\n",
       "      <td>-0.000114</td>\n",
       "      <td>-0.000043</td>\n",
       "      <td>-0.000010</td>\n",
       "      <td>...</td>\n",
       "      <td>-0.000043</td>\n",
       "      <td>-0.000086</td>\n",
       "      <td>-0.000043</td>\n",
       "      <td>-0.000086</td>\n",
       "      <td>0.000914</td>\n",
       "      <td>-0.000043</td>\n",
       "      <td>-0.000010</td>\n",
       "      <td>-0.000010</td>\n",
       "      <td>0.000990</td>\n",
       "      <td>-9.536743e-07</td>\n",
       "    </tr>\n",
       "  </tbody>\n",
       "</table>\n",
       "<p>5 rows × 286 columns</p>\n",
       "</div>"
      ],
      "text/plain": [
       "           A0T0G0C10  A0T0G1C9      A0T0G2C8  A0T0G3C7  A0T0G4C6  A0T0G5C5  \\\n",
       "row_id                                                                       \n",
       "200000 -9.536743e-07 -0.000002 -9.153442e-07  0.000024  0.000034 -0.000002   \n",
       "200001 -9.536743e-07 -0.000010 -4.291534e-05 -0.000114  0.001800 -0.000240   \n",
       "200002  4.632568e-08  0.000003  8.465576e-08 -0.000014  0.000007 -0.000005   \n",
       "200003 -9.536743e-07 -0.000008  8.084656e-06  0.000216  0.000420  0.000514   \n",
       "200004 -9.536743e-07 -0.000010 -4.291534e-05 -0.000114 -0.000200 -0.000240   \n",
       "\n",
       "        A0T0G6C4  A0T0G7C3  A0T0G8C2  A0T0G9C1  ...  A8T0G0C2  A8T0G1C1  \\\n",
       "row_id                                          ...                       \n",
       "200000  0.000021  0.000024 -0.000009 -0.000008  ...  0.000039  0.000085   \n",
       "200001  0.001800 -0.000114  0.000957 -0.000010  ... -0.000043  0.000914   \n",
       "200002 -0.000004  0.000003  0.000004 -0.000008  ...  0.000041  0.000102   \n",
       "200003  0.000452  0.000187 -0.000005 -0.000008  ...  0.000069  0.000158   \n",
       "200004 -0.000200 -0.000114 -0.000043 -0.000010  ... -0.000043 -0.000086   \n",
       "\n",
       "        A8T0G2C0  A8T1G0C1  A8T1G1C0  A8T2G0C0  A9T0G0C1  A9T0G1C0  A9T1G0C0  \\\n",
       "row_id                                                                         \n",
       "200000  0.000055  0.000108  0.000090  0.000059  0.000010  0.000006  0.000027   \n",
       "200001 -0.000043 -0.000086 -0.000086 -0.000043 -0.000010 -0.000010 -0.000010   \n",
       "200002  0.000084  0.000111  0.000117  0.000070  0.000020  0.000030  0.000021   \n",
       "200003  0.000098  0.000175  0.000217  0.000150  0.000018  0.000016  0.000051   \n",
       "200004 -0.000043 -0.000086  0.000914 -0.000043 -0.000010 -0.000010  0.000990   \n",
       "\n",
       "           A10T0G0C0  \n",
       "row_id                \n",
       "200000  4.632568e-08  \n",
       "200001 -9.536743e-07  \n",
       "200002  4.632568e-08  \n",
       "200003 -9.536743e-07  \n",
       "200004 -9.536743e-07  \n",
       "\n",
       "[5 rows x 286 columns]"
      ]
     },
     "execution_count": 4,
     "metadata": {},
     "output_type": "execute_result"
    }
   ],
   "source": [
    "#preview for the test data\n",
    "df_test = test_set.copy()\n",
    "df_test.head()"
   ]
  },
  {
   "cell_type": "code",
   "execution_count": 5,
   "id": "3659bace",
   "metadata": {
    "colab": {
     "base_uri": "https://localhost:8080/"
    },
    "id": "3659bace",
    "outputId": "c648dd50-5dd8-4b2e-d49a-8acc641bde58"
   },
   "outputs": [
    {
     "data": {
      "text/plain": [
       "(200000, 287)"
      ]
     },
     "execution_count": 5,
     "metadata": {},
     "output_type": "execute_result"
    }
   ],
   "source": [
    "# check the shape for train set\n",
    "df_train.shape"
   ]
  },
  {
   "cell_type": "code",
   "execution_count": 6,
   "id": "4f8eb696",
   "metadata": {
    "colab": {
     "base_uri": "https://localhost:8080/"
    },
    "id": "4f8eb696",
    "outputId": "0c656915-f6b3-46bc-960a-b9b2d1569908"
   },
   "outputs": [
    {
     "data": {
      "text/plain": [
       "(100000, 286)"
      ]
     },
     "execution_count": 6,
     "metadata": {},
     "output_type": "execute_result"
    }
   ],
   "source": [
    "# check the shape for test set\n",
    "df_test.shape"
   ]
  },
  {
   "cell_type": "markdown",
   "id": "b571014e",
   "metadata": {
    "id": "b571014e"
   },
   "source": [
    "There are 200000 set data for model training. \n",
    "\n",
    "100000 testing sample was used for prediction and check with the performance by upload the result to Kaggle.\n",
    "\n",
    "Now, let's check the whole data set and see is there any duplicate/non-numeric data/ missing value and some column needed to be worked on for feature engineering."
   ]
  },
  {
   "cell_type": "markdown",
   "id": "df440eac",
   "metadata": {
    "id": "df440eac"
   },
   "source": [
    "#### Missing value\n",
    "\n",
    "Let's check is there any missing value for each sample in both training and testing set"
   ]
  },
  {
   "cell_type": "code",
   "execution_count": 7,
   "id": "5e32fc88",
   "metadata": {
    "colab": {
     "base_uri": "https://localhost:8080/"
    },
    "id": "5e32fc88",
    "outputId": "ecc30f37-d353-446f-c056-e3b25c6fae95"
   },
   "outputs": [
    {
     "name": "stdout",
     "output_type": "stream",
     "text": [
      "Missing value for train set: 0\n",
      "Missing value for test set: 0\n"
     ]
    }
   ],
   "source": [
    "# count the missing value in both data set\n",
    "train_missing_count = 0\n",
    "for i in df_train.columns:\n",
    "    train_missing_count += df_train[i].isna().sum()\n",
    "\n",
    "test_missing_count = 0\n",
    "for i in df_test.columns:\n",
    "    test_missing_count += df_test[i].isna().sum()\n",
    "    \n",
    "print('Missing value for train set: {0}'.format(train_missing_count))\n",
    "print('Missing value for test set: {0}'.format(test_missing_count))"
   ]
  },
  {
   "cell_type": "markdown",
   "id": "9ff195c7",
   "metadata": {
    "id": "9ff195c7"
   },
   "source": [
    "There is no missing value for the data set and we don't have to fill with other value. All the information was remained & obtained.\n",
    "\n",
    "Next, we have to work on the duplicate."
   ]
  },
  {
   "cell_type": "markdown",
   "id": "960569c1",
   "metadata": {
    "id": "960569c1"
   },
   "source": [
    "#### Duplicate"
   ]
  },
  {
   "cell_type": "markdown",
   "id": "8ed5b34c",
   "metadata": {
    "id": "8ed5b34c"
   },
   "source": [
    "Let's check the sample number for duplicate sample"
   ]
  },
  {
   "cell_type": "code",
   "execution_count": 8,
   "id": "114f8662",
   "metadata": {
    "colab": {
     "base_uri": "https://localhost:8080/"
    },
    "id": "114f8662",
    "outputId": "0d4007b9-ab2c-4717-88ae-ec07371f8531"
   },
   "outputs": [
    {
     "name": "stdout",
     "output_type": "stream",
     "text": [
      "Duplicate sample in train set: 76007\n",
      "Duplicate sample in test set: 26779\n"
     ]
    }
   ],
   "source": [
    "# print the sample size for duplicate in both train and test set\n",
    "print(f'Duplicate sample in train set: {df_train.duplicated().sum()}')\n",
    "print(f'Duplicate sample in test set: {df_test.duplicated().sum()}')"
   ]
  },
  {
   "cell_type": "markdown",
   "id": "508564f9",
   "metadata": {
    "id": "508564f9"
   },
   "source": [
    "Let's remove the duplicates for training set since it may cause overfitting issues."
   ]
  },
  {
   "cell_type": "code",
   "execution_count": 9,
   "id": "aaa9fb0a",
   "metadata": {
    "id": "aaa9fb0a"
   },
   "outputs": [],
   "source": [
    "# remove the duplicate and replace training set\n",
    "df_train.drop_duplicates(subset = None, keep = 'first', inplace = True)"
   ]
  },
  {
   "cell_type": "markdown",
   "id": "28786bac",
   "metadata": {
    "id": "28786bac"
   },
   "source": [
    "#### Object type encoding/ mapping"
   ]
  },
  {
   "cell_type": "markdown",
   "id": "9114b9e7",
   "metadata": {
    "id": "9114b9e7"
   },
   "source": [
    "All the features should be numeric data except the target column but we can still check about the whole data set."
   ]
  },
  {
   "cell_type": "code",
   "execution_count": 10,
   "id": "c2c860c2",
   "metadata": {
    "colab": {
     "base_uri": "https://localhost:8080/"
    },
    "id": "c2c860c2",
    "outputId": "6e5108e9-9bfd-40ad-b2df-615ffe48e073"
   },
   "outputs": [
    {
     "name": "stdout",
     "output_type": "stream",
     "text": [
      "['target']\n"
     ]
    }
   ],
   "source": [
    "# check for the object column in training set\n",
    "object_list = []\n",
    "for i in df_train.columns:\n",
    "    if df_train[i].dtypes == 'object':\n",
    "        object_list.append(i)\n",
    "print(object_list)"
   ]
  },
  {
   "cell_type": "markdown",
   "id": "497fa8f5",
   "metadata": {
    "id": "497fa8f5"
   },
   "source": [
    "We can see that only the target columns was object type and it is the only column that we needed to do some feature engineering. We can check for the test set as well."
   ]
  },
  {
   "cell_type": "code",
   "execution_count": 11,
   "id": "d5a103ee",
   "metadata": {
    "colab": {
     "base_uri": "https://localhost:8080/"
    },
    "id": "d5a103ee",
    "outputId": "fd728594-9d85-405b-a855-eba6615c2303"
   },
   "outputs": [
    {
     "name": "stdout",
     "output_type": "stream",
     "text": [
      "[]\n"
     ]
    }
   ],
   "source": [
    "# check for the object column in testing set\n",
    "object_list = []\n",
    "for i in df_test.columns:\n",
    "    if df_test[i].dtypes == 'object':\n",
    "        object_list.append(i)\n",
    "print(object_list)"
   ]
  },
  {
   "cell_type": "markdown",
   "id": "cced40a3",
   "metadata": {
    "id": "cced40a3"
   },
   "source": [
    "Now, all the features parameter was numeric and it can be applied easily for our model without any transformation at this moment.\n",
    "\n",
    "Let's work on the target column in training set and change it to numeric value that's the model is readable.\n",
    "\n",
    "There is two ways for handling this column: (1) Ordinal Encoding (2) One-Hot Encoding. From the description of the data set, there is ten type of bacteria as our target and Orginal Encoding will be a better way to deal with it since it is our target column and we dont want much column for each type of bacteria."
   ]
  },
  {
   "cell_type": "code",
   "execution_count": 12,
   "id": "b7ef9695",
   "metadata": {
    "colab": {
     "base_uri": "https://localhost:8080/"
    },
    "id": "b7ef9695",
    "outputId": "9b5e9322-a48a-4d99-dd89-f3798c7a99f3"
   },
   "outputs": [
    {
     "data": {
      "text/plain": [
       "{'Streptococcus_pyogenes': 0,\n",
       " 'Salmonella_enterica': 1,\n",
       " 'Enterococcus_hirae': 2,\n",
       " 'Escherichia_coli': 3,\n",
       " 'Campylobacter_jejuni': 4,\n",
       " 'Streptococcus_pneumoniae': 5,\n",
       " 'Staphylococcus_aureus': 6,\n",
       " 'Escherichia_fergusonii': 7,\n",
       " 'Bacteroides_fragilis': 8,\n",
       " 'Klebsiella_pneumoniae': 9}"
      ]
     },
     "execution_count": 12,
     "metadata": {},
     "output_type": "execute_result"
    }
   ],
   "source": [
    "# let's check about what type of bacteria\n",
    "list(df_train['target'].unique())\n",
    "\n",
    "# let's assign a number for each type\n",
    "ordinal_target = dict(enumerate(df_train['target'].unique()))\n",
    "ordinal_target = {y:x for x,y in ordinal_target.items()}\n",
    "ordinal_target"
   ]
  },
  {
   "cell_type": "code",
   "execution_count": 13,
   "id": "d3ffd827",
   "metadata": {
    "colab": {
     "base_uri": "https://localhost:8080/"
    },
    "id": "d3ffd827",
    "outputId": "548bb0a5-fa56-44f2-f0cf-6833d537e545"
   },
   "outputs": [
    {
     "data": {
      "text/plain": [
       "{0: 'Streptococcus_pyogenes',\n",
       " 1: 'Salmonella_enterica',\n",
       " 2: 'Enterococcus_hirae',\n",
       " 3: 'Escherichia_coli',\n",
       " 4: 'Campylobacter_jejuni',\n",
       " 5: 'Streptococcus_pneumoniae',\n",
       " 6: 'Staphylococcus_aureus',\n",
       " 7: 'Escherichia_fergusonii',\n",
       " 8: 'Bacteroides_fragilis',\n",
       " 9: 'Klebsiella_pneumoniae'}"
      ]
     },
     "execution_count": 13,
     "metadata": {},
     "output_type": "execute_result"
    }
   ],
   "source": [
    "reverse_target = {y:x for x,y in ordinal_target.items()}\n",
    "reverse_target"
   ]
  },
  {
   "cell_type": "code",
   "execution_count": 14,
   "id": "90f4882e",
   "metadata": {
    "colab": {
     "base_uri": "https://localhost:8080/",
     "height": 413
    },
    "id": "90f4882e",
    "outputId": "b39896c6-6e40-4eeb-e665-f6d457bf38d1"
   },
   "outputs": [
    {
     "data": {
      "text/html": [
       "<div>\n",
       "<style scoped>\n",
       "    .dataframe tbody tr th:only-of-type {\n",
       "        vertical-align: middle;\n",
       "    }\n",
       "\n",
       "    .dataframe tbody tr th {\n",
       "        vertical-align: top;\n",
       "    }\n",
       "\n",
       "    .dataframe thead th {\n",
       "        text-align: right;\n",
       "    }\n",
       "</style>\n",
       "<table border=\"1\" class=\"dataframe\">\n",
       "  <thead>\n",
       "    <tr style=\"text-align: right;\">\n",
       "      <th></th>\n",
       "      <th>A0T0G0C10</th>\n",
       "      <th>A0T0G1C9</th>\n",
       "      <th>A0T0G2C8</th>\n",
       "      <th>A0T0G3C7</th>\n",
       "      <th>A0T0G4C6</th>\n",
       "      <th>A0T0G5C5</th>\n",
       "      <th>A0T0G6C4</th>\n",
       "      <th>A0T0G7C3</th>\n",
       "      <th>A0T0G8C2</th>\n",
       "      <th>A0T0G9C1</th>\n",
       "      <th>...</th>\n",
       "      <th>A8T0G1C1</th>\n",
       "      <th>A8T0G2C0</th>\n",
       "      <th>A8T1G0C1</th>\n",
       "      <th>A8T1G1C0</th>\n",
       "      <th>A8T2G0C0</th>\n",
       "      <th>A9T0G0C1</th>\n",
       "      <th>A9T0G1C0</th>\n",
       "      <th>A9T1G0C0</th>\n",
       "      <th>A10T0G0C0</th>\n",
       "      <th>target</th>\n",
       "    </tr>\n",
       "    <tr>\n",
       "      <th>row_id</th>\n",
       "      <th></th>\n",
       "      <th></th>\n",
       "      <th></th>\n",
       "      <th></th>\n",
       "      <th></th>\n",
       "      <th></th>\n",
       "      <th></th>\n",
       "      <th></th>\n",
       "      <th></th>\n",
       "      <th></th>\n",
       "      <th></th>\n",
       "      <th></th>\n",
       "      <th></th>\n",
       "      <th></th>\n",
       "      <th></th>\n",
       "      <th></th>\n",
       "      <th></th>\n",
       "      <th></th>\n",
       "      <th></th>\n",
       "      <th></th>\n",
       "      <th></th>\n",
       "    </tr>\n",
       "  </thead>\n",
       "  <tbody>\n",
       "    <tr>\n",
       "      <th>0</th>\n",
       "      <td>-9.536743e-07</td>\n",
       "      <td>-0.000010</td>\n",
       "      <td>-0.000043</td>\n",
       "      <td>-0.000114</td>\n",
       "      <td>-0.000200</td>\n",
       "      <td>-0.000240</td>\n",
       "      <td>-0.000200</td>\n",
       "      <td>-0.000114</td>\n",
       "      <td>-0.000043</td>\n",
       "      <td>-0.000010</td>\n",
       "      <td>...</td>\n",
       "      <td>-0.000086</td>\n",
       "      <td>-0.000043</td>\n",
       "      <td>-0.000086</td>\n",
       "      <td>-0.000086</td>\n",
       "      <td>-0.000043</td>\n",
       "      <td>-0.000010</td>\n",
       "      <td>-0.000010</td>\n",
       "      <td>-0.000010</td>\n",
       "      <td>-9.536743e-07</td>\n",
       "      <td>0</td>\n",
       "    </tr>\n",
       "    <tr>\n",
       "      <th>1</th>\n",
       "      <td>-9.536743e-07</td>\n",
       "      <td>-0.000010</td>\n",
       "      <td>-0.000043</td>\n",
       "      <td>0.000886</td>\n",
       "      <td>-0.000200</td>\n",
       "      <td>0.000760</td>\n",
       "      <td>-0.000200</td>\n",
       "      <td>-0.000114</td>\n",
       "      <td>-0.000043</td>\n",
       "      <td>-0.000010</td>\n",
       "      <td>...</td>\n",
       "      <td>-0.000086</td>\n",
       "      <td>-0.000043</td>\n",
       "      <td>0.000914</td>\n",
       "      <td>0.000914</td>\n",
       "      <td>-0.000043</td>\n",
       "      <td>-0.000010</td>\n",
       "      <td>-0.000010</td>\n",
       "      <td>-0.000010</td>\n",
       "      <td>-9.536743e-07</td>\n",
       "      <td>1</td>\n",
       "    </tr>\n",
       "    <tr>\n",
       "      <th>2</th>\n",
       "      <td>-9.536743e-07</td>\n",
       "      <td>-0.000002</td>\n",
       "      <td>0.000007</td>\n",
       "      <td>0.000129</td>\n",
       "      <td>0.000268</td>\n",
       "      <td>0.000270</td>\n",
       "      <td>0.000243</td>\n",
       "      <td>0.000125</td>\n",
       "      <td>0.000001</td>\n",
       "      <td>-0.000007</td>\n",
       "      <td>...</td>\n",
       "      <td>0.000084</td>\n",
       "      <td>0.000048</td>\n",
       "      <td>0.000081</td>\n",
       "      <td>0.000106</td>\n",
       "      <td>0.000072</td>\n",
       "      <td>0.000010</td>\n",
       "      <td>0.000008</td>\n",
       "      <td>0.000019</td>\n",
       "      <td>1.046326e-06</td>\n",
       "      <td>1</td>\n",
       "    </tr>\n",
       "    <tr>\n",
       "      <th>3</th>\n",
       "      <td>4.632568e-08</td>\n",
       "      <td>-0.000006</td>\n",
       "      <td>0.000012</td>\n",
       "      <td>0.000245</td>\n",
       "      <td>0.000492</td>\n",
       "      <td>0.000522</td>\n",
       "      <td>0.000396</td>\n",
       "      <td>0.000197</td>\n",
       "      <td>-0.000003</td>\n",
       "      <td>-0.000007</td>\n",
       "      <td>...</td>\n",
       "      <td>0.000151</td>\n",
       "      <td>0.000100</td>\n",
       "      <td>0.000180</td>\n",
       "      <td>0.000202</td>\n",
       "      <td>0.000153</td>\n",
       "      <td>0.000021</td>\n",
       "      <td>0.000015</td>\n",
       "      <td>0.000046</td>\n",
       "      <td>-9.536743e-07</td>\n",
       "      <td>1</td>\n",
       "    </tr>\n",
       "    <tr>\n",
       "      <th>4</th>\n",
       "      <td>-9.536743e-07</td>\n",
       "      <td>-0.000010</td>\n",
       "      <td>-0.000043</td>\n",
       "      <td>-0.000114</td>\n",
       "      <td>-0.000200</td>\n",
       "      <td>-0.000240</td>\n",
       "      <td>-0.000200</td>\n",
       "      <td>-0.000114</td>\n",
       "      <td>-0.000043</td>\n",
       "      <td>-0.000010</td>\n",
       "      <td>...</td>\n",
       "      <td>-0.000086</td>\n",
       "      <td>-0.000043</td>\n",
       "      <td>-0.000086</td>\n",
       "      <td>-0.000086</td>\n",
       "      <td>-0.000043</td>\n",
       "      <td>-0.000010</td>\n",
       "      <td>-0.000010</td>\n",
       "      <td>-0.000010</td>\n",
       "      <td>-9.536743e-07</td>\n",
       "      <td>2</td>\n",
       "    </tr>\n",
       "  </tbody>\n",
       "</table>\n",
       "<p>5 rows × 287 columns</p>\n",
       "</div>"
      ],
      "text/plain": [
       "           A0T0G0C10  A0T0G1C9  A0T0G2C8  A0T0G3C7  A0T0G4C6  A0T0G5C5  \\\n",
       "row_id                                                                   \n",
       "0      -9.536743e-07 -0.000010 -0.000043 -0.000114 -0.000200 -0.000240   \n",
       "1      -9.536743e-07 -0.000010 -0.000043  0.000886 -0.000200  0.000760   \n",
       "2      -9.536743e-07 -0.000002  0.000007  0.000129  0.000268  0.000270   \n",
       "3       4.632568e-08 -0.000006  0.000012  0.000245  0.000492  0.000522   \n",
       "4      -9.536743e-07 -0.000010 -0.000043 -0.000114 -0.000200 -0.000240   \n",
       "\n",
       "        A0T0G6C4  A0T0G7C3  A0T0G8C2  A0T0G9C1  ...  A8T0G1C1  A8T0G2C0  \\\n",
       "row_id                                          ...                       \n",
       "0      -0.000200 -0.000114 -0.000043 -0.000010  ... -0.000086 -0.000043   \n",
       "1      -0.000200 -0.000114 -0.000043 -0.000010  ... -0.000086 -0.000043   \n",
       "2       0.000243  0.000125  0.000001 -0.000007  ...  0.000084  0.000048   \n",
       "3       0.000396  0.000197 -0.000003 -0.000007  ...  0.000151  0.000100   \n",
       "4      -0.000200 -0.000114 -0.000043 -0.000010  ... -0.000086 -0.000043   \n",
       "\n",
       "        A8T1G0C1  A8T1G1C0  A8T2G0C0  A9T0G0C1  A9T0G1C0  A9T1G0C0  \\\n",
       "row_id                                                               \n",
       "0      -0.000086 -0.000086 -0.000043 -0.000010 -0.000010 -0.000010   \n",
       "1       0.000914  0.000914 -0.000043 -0.000010 -0.000010 -0.000010   \n",
       "2       0.000081  0.000106  0.000072  0.000010  0.000008  0.000019   \n",
       "3       0.000180  0.000202  0.000153  0.000021  0.000015  0.000046   \n",
       "4      -0.000086 -0.000086 -0.000043 -0.000010 -0.000010 -0.000010   \n",
       "\n",
       "           A10T0G0C0  target  \n",
       "row_id                        \n",
       "0      -9.536743e-07       0  \n",
       "1      -9.536743e-07       1  \n",
       "2       1.046326e-06       1  \n",
       "3      -9.536743e-07       1  \n",
       "4      -9.536743e-07       2  \n",
       "\n",
       "[5 rows x 287 columns]"
      ]
     },
     "execution_count": 14,
     "metadata": {},
     "output_type": "execute_result"
    }
   ],
   "source": [
    "# make another copy to prevent data change\n",
    "label_df_train = df_train.copy()\n",
    "\n",
    "# let's map with the dict that we create in the data set\n",
    "label_df_train['target'] = label_df_train['target'].map(ordinal_target)\n",
    "\n",
    "# let's check the data set after mapping/ ordinal encoding\n",
    "label_df_train.head()"
   ]
  },
  {
   "cell_type": "markdown",
   "id": "f0831659",
   "metadata": {
    "id": "f0831659"
   },
   "source": [
    "After the mapping, the data was ready for training the model and we can try it in a different.\n",
    "\n",
    "Let's work a simple XGBoost model and check with the result first."
   ]
  },
  {
   "cell_type": "markdown",
   "id": "OfiL_gZ7ztjc",
   "metadata": {
    "id": "OfiL_gZ7ztjc"
   },
   "source": [
    "### XGBoost"
   ]
  },
  {
   "cell_type": "markdown",
   "id": "5a6c01d0",
   "metadata": {
    "id": "5a6c01d0"
   },
   "source": [
    "In the XGBoost library, it got XGBoost Regressor & XGBoost Classifier. In the prediction, classification was needed and XGB Classifier will be used as the model."
   ]
  },
  {
   "cell_type": "code",
   "execution_count": 30,
   "id": "7a7e05c1",
   "metadata": {
    "id": "7a7e05c1"
   },
   "outputs": [],
   "source": [
    "# set up for machine learning libraries\n",
    "from xgboost import XGBClassifier\n",
    "from sklearn.model_selection import train_test_split\n",
    "from sklearn.metrics import accuracy_score"
   ]
  },
  {
   "cell_type": "markdown",
   "id": "a11b7e28",
   "metadata": {
    "id": "a11b7e28"
   },
   "source": [
    "Spliting of the data in data set by slicing"
   ]
  },
  {
   "cell_type": "code",
   "execution_count": 54,
   "id": "cc92da28",
   "metadata": {
    "id": "cc92da28"
   },
   "outputs": [],
   "source": [
    "# slice the dataset for features and target\n",
    "X = label_df_train.iloc[:,:-1].values\n",
    "y = label_df_train.iloc[:,-1].values.reshape(-1,1)\n",
    "\n",
    "X_train, X_test, y_train, y_test = train_test_split(X, y, test_size = .2)"
   ]
  },
  {
   "cell_type": "markdown",
   "id": "SPsN9VaAwSDq",
   "metadata": {
    "id": "SPsN9VaAwSDq"
   },
   "source": [
    "##### Ninth trial with GrisSearchCV"
   ]
  },
  {
   "cell_type": "markdown",
   "id": "0Rglh4elvs4f",
   "metadata": {
    "id": "0Rglh4elvs4f"
   },
   "source": [
    "By using the PCA, the performance for the model is not that well for last trial. GridSearchCV is a great technique to help searching the best hyperparameter instead of try it one by one. Let's try with few combination and search for the best accuracy. It will repeat 540 fits to ensure that best hyperparameter was found. The parameters will be focused on n_estimators, max_depth & learning_rate.\n",
    "\n",
    "Due to the cost of time, K-fold will not be used since it may cost more time to find the hyperparameter.\n",
    "After the bset parameter was found, the model will be trained again and predict the final test set for accuracy checking.\n",
    "\n",
    "PS. the best model may not be used since the random_state was forgot to reproduce the result and the accuracy should be closed to the others"
   ]
  },
  {
   "cell_type": "code",
   "execution_count": 41,
   "id": "TjkeNZFAZXDM",
   "metadata": {
    "colab": {
     "base_uri": "https://localhost:8080/"
    },
    "id": "TjkeNZFAZXDM",
    "outputId": "fd0ba055-2911-4ec5-a40a-1405f964e356"
   },
   "outputs": [
    {
     "name": "stdout",
     "output_type": "stream",
     "text": [
      "Fitting 2 folds for each of 12 candidates, totalling 24 fits\n",
      "[CV 1/2] END learning_rate=0.01, max_depth=8, n_estimators=500;, score=0.939 total time= 4.2min\n",
      "[CV 2/2] END learning_rate=0.01, max_depth=8, n_estimators=500;, score=0.940 total time= 4.5min\n",
      "[CV 1/2] END learning_rate=0.01, max_depth=8, n_estimators=1000;, score=0.951 total time= 7.8min\n",
      "[CV 2/2] END learning_rate=0.01, max_depth=8, n_estimators=1000;, score=0.951 total time= 7.5min\n",
      "[CV 1/2] END learning_rate=0.01, max_depth=10, n_estimators=500;, score=0.942 total time= 5.8min\n",
      "[CV 2/2] END learning_rate=0.01, max_depth=10, n_estimators=500;, score=0.942 total time= 5.8min\n",
      "[CV 1/2] END learning_rate=0.01, max_depth=10, n_estimators=1000;, score=0.952 total time= 9.6min\n",
      "[CV 2/2] END learning_rate=0.01, max_depth=10, n_estimators=1000;, score=0.953 total time= 9.9min\n",
      "[CV 1/2] END learning_rate=0.1, max_depth=8, n_estimators=500;, score=0.961 total time= 4.3min\n",
      "[CV 2/2] END learning_rate=0.1, max_depth=8, n_estimators=500;, score=0.960 total time= 2.7min\n",
      "[CV 1/2] END learning_rate=0.1, max_depth=8, n_estimators=1000;, score=0.962 total time= 4.3min\n",
      "[CV 2/2] END learning_rate=0.1, max_depth=8, n_estimators=1000;, score=0.960 total time= 4.2min\n",
      "[CV 1/2] END learning_rate=0.1, max_depth=10, n_estimators=500;, score=0.961 total time= 2.7min\n",
      "[CV 2/2] END learning_rate=0.1, max_depth=10, n_estimators=500;, score=0.959 total time= 2.7min\n",
      "[CV 1/2] END learning_rate=0.1, max_depth=10, n_estimators=1000;, score=0.961 total time= 4.2min\n",
      "[CV 2/2] END learning_rate=0.1, max_depth=10, n_estimators=1000;, score=0.960 total time= 4.1min\n",
      "[CV 1/2] END learning_rate=1, max_depth=8, n_estimators=500;, score=0.952 total time= 1.2min\n",
      "[CV 2/2] END learning_rate=1, max_depth=8, n_estimators=500;, score=0.952 total time= 1.1min\n",
      "[CV 1/2] END learning_rate=1, max_depth=8, n_estimators=1000;, score=0.953 total time= 1.9min\n",
      "[CV 2/2] END learning_rate=1, max_depth=8, n_estimators=1000;, score=0.952 total time= 1.9min\n",
      "[CV 1/2] END learning_rate=1, max_depth=10, n_estimators=500;, score=0.950 total time= 1.1min\n",
      "[CV 2/2] END learning_rate=1, max_depth=10, n_estimators=500;, score=0.948 total time= 1.1min\n",
      "[CV 1/2] END learning_rate=1, max_depth=10, n_estimators=1000;, score=0.951 total time= 1.9min\n",
      "[CV 2/2] END learning_rate=1, max_depth=10, n_estimators=1000;, score=0.949 total time= 1.9min\n"
     ]
    },
    {
     "data": {
      "text/plain": [
       "GridSearchCV(cv=2,\n",
       "             estimator=XGBClassifier(base_score=None, booster='gbtree',\n",
       "                                     colsample_bylevel=None,\n",
       "                                     colsample_bynode=None,\n",
       "                                     colsample_bytree=None, eval_metric='auc',\n",
       "                                     gamma=None, gpu_id=None,\n",
       "                                     importance_type='gain',\n",
       "                                     interaction_constraints=None,\n",
       "                                     learning_rate=None, max_delta_step=None,\n",
       "                                     max_depth=None, min_child_weight=None,\n",
       "                                     missing=nan, monotone_constraints=None,\n",
       "                                     n_estimators=100, n_jobs=None,\n",
       "                                     num_parallel_tree=None,\n",
       "                                     objective='multi:softmax',\n",
       "                                     random_state=None, reg_alpha=None,\n",
       "                                     reg_lambda=None, scale_pos_weight=None,\n",
       "                                     subsample=None, tree_method='hist',\n",
       "                                     use_label_encoder=False,\n",
       "                                     validate_parameters=None, verbosity=None),\n",
       "             param_grid={'learning_rate': [0.01, 0.1, 1], 'max_depth': [8, 10],\n",
       "                         'n_estimators': [500, 1000]},\n",
       "             verbose=3)"
      ]
     },
     "execution_count": 41,
     "metadata": {},
     "output_type": "execute_result"
    }
   ],
   "source": [
    "from sklearn.metrics import accuracy_score, classification_report\n",
    "from sklearn.model_selection import GridSearchCV\n",
    "\n",
    "# make a dictionary of hyperparameter to search\n",
    "search_space = {\n",
    "    \"n_estimators\" : [500, 1000],\n",
    "    \"max_depth\" : [8 , 10],\n",
    "    \"learning_rate\" : [0.01, 0.1, 1]\n",
    "}\n",
    "# build a xgb classifier model without the hyperparameter that we want to check\n",
    "model = XGBClassifier(objective = 'multi:softmax', booster = 'gbtree',\n",
    "                        eval_metric = 'auc', tree_method = 'hist', use_label_encoder = False)\n",
    "# build a GridSearchCV model to start for the searching of hyperparameter\n",
    "GS = GridSearchCV(estimator = model, # target model\n",
    "                  param_grid = search_space, # dictionary of the parameters\n",
    "                  cv = 2, # 2 cv to minimize the time for training\n",
    "                  verbose = 3 # message for the searching progress\n",
    ")\n",
    "GS.fit(X_train, y_train)"
   ]
  },
  {
   "cell_type": "code",
   "execution_count": 43,
   "id": "17b9318e",
   "metadata": {},
   "outputs": [
    {
     "name": "stdout",
     "output_type": "stream",
     "text": [
      "XGBClassifier(base_score=0.5, booster='gbtree', colsample_bylevel=1,\n",
      "              colsample_bynode=1, colsample_bytree=1, eval_metric='auc',\n",
      "              gamma=0, gpu_id=-1, importance_type='gain',\n",
      "              interaction_constraints='', learning_rate=0.1, max_delta_step=0,\n",
      "              max_depth=8, min_child_weight=1, missing=nan,\n",
      "              monotone_constraints='()', n_estimators=1000, n_jobs=8,\n",
      "              num_parallel_tree=1, objective='multi:softprob', random_state=0,\n",
      "              reg_alpha=0, reg_lambda=1, scale_pos_weight=None, subsample=1,\n",
      "              tree_method='hist', use_label_encoder=False,\n",
      "              validate_parameters=1, verbosity=None)\n"
     ]
    }
   ],
   "source": [
    "print(GS.best_estimator_) # best model"
   ]
  },
  {
   "cell_type": "code",
   "execution_count": 44,
   "id": "e57dbb1d",
   "metadata": {},
   "outputs": [
    {
     "name": "stdout",
     "output_type": "stream",
     "text": [
      "{'learning_rate': 0.1, 'max_depth': 8, 'n_estimators': 1000}\n"
     ]
    }
   ],
   "source": [
    "print(GS.best_params_) # best hyperparameter"
   ]
  },
  {
   "cell_type": "code",
   "execution_count": 45,
   "id": "f728d692",
   "metadata": {},
   "outputs": [
    {
     "name": "stdout",
     "output_type": "stream",
     "text": [
      "0.9611972498336593\n"
     ]
    }
   ],
   "source": [
    "print(GS.best_score_) # best score for the model"
   ]
  },
  {
   "cell_type": "code",
   "execution_count": 58,
   "id": "1a555328",
   "metadata": {},
   "outputs": [
    {
     "name": "stdout",
     "output_type": "stream",
     "text": [
      "Accuracy: 0.9756845034073954\n"
     ]
    }
   ],
   "source": [
    "# slice the dataset for features and target\n",
    "X = label_df_train.iloc[:,:-1]\n",
    "y = label_df_train.iloc[:,-1]\n",
    "\n",
    "X_train, X_test, y_train, y_test = train_test_split(X, y, test_size = .2)\n",
    "\n",
    "best_model = XGBClassifier(objective = 'multi:softmax', booster = 'gbtree',\n",
    "                        eval_metric = 'auc', tree_method = 'hist', use_label_encoder = False,\n",
    "                          learning_rate = 0.1, max_depth = 8, n_estimators = 1000)\n",
    "best_model.fit(X_train, y_train)\n",
    "\n",
    "y_pred = best_model.predict(X_test)\n",
    "acc = accuracy_score(y_test, y_pred)\n",
    "print(f\"Accuracy: {acc}\")"
   ]
  },
  {
   "cell_type": "code",
   "execution_count": 59,
   "id": "0cc117b1",
   "metadata": {},
   "outputs": [],
   "source": [
    "predictions = best_model.predict(df_test)"
   ]
  },
  {
   "cell_type": "code",
   "execution_count": 64,
   "id": "JGocHfH8xosQ",
   "metadata": {
    "id": "JGocHfH8xosQ"
   },
   "outputs": [],
   "source": [
    "# take the result appeared most in 5-fold result and generate the submission to test the accuracy\n",
    "from scipy.stats import mode\n",
    "xgb_result = pd.DataFrame()\n",
    "xgb_result['row_id'] = df_test.index\n",
    "xgb_result['target'] = predictions\n",
    "xgb_result['target'] = xgb_result['target'].map(reverse_target)\n",
    "xgb_result.to_csv(\"xgb_GSCV_submission.csv\", index = False)"
   ]
  },
  {
   "cell_type": "markdown",
   "id": "776601a3",
   "metadata": {},
   "source": [
    "After usign the best parameter from GridSearchCV, the accuracy of the submission was determined as 0.93042. It is not great than the sixth submission but we can enhance it by using the K-fold as well."
   ]
  },
  {
   "cell_type": "markdown",
   "id": "edc95c99",
   "metadata": {},
   "source": [
    "##### 10th submission: UMAP + previous model"
   ]
  },
  {
   "cell_type": "markdown",
   "id": "39860fca",
   "metadata": {},
   "source": [
    "Previously, PCA was used for dimension but it is not that great since the cluster was very close. Sample will have a chance to be predicted as a wrong target."
   ]
  },
  {
   "cell_type": "code",
   "execution_count": 65,
   "id": "9a14ef0a",
   "metadata": {},
   "outputs": [],
   "source": [
    "from sklearn.decomposition import PCA\n",
    "from sklearn.preprocessing import StandardScaler\n",
    "\n",
    "ss = StandardScaler()\n",
    "X_scaled = ss.fit_transform(X)\n",
    "pca = PCA(n_components = None)\n",
    "L = pca.fit_transform(X_scaled)"
   ]
  },
  {
   "cell_type": "markdown",
   "id": "273a2eb6",
   "metadata": {},
   "source": [
    "Let's recap for the scatter plotted by using the first two components"
   ]
  },
  {
   "cell_type": "code",
   "execution_count": 66,
   "id": "52a7f1ec",
   "metadata": {},
   "outputs": [
    {
     "data": {
      "image/png": "[encoded data removed]",
      "text/plain": [
       "<Figure size 402.375x360 with 1 Axes>"
      ]
     },
     "metadata": {
      "needs_background": "light"
     },
     "output_type": "display_data"
    }
   ],
   "source": [
    "def pca_scatter(pca, standardised_values, classifs):\n",
    "    foo = pca.transform(standardised_values)\n",
    "    bar = pd.DataFrame(zip(foo[:,0], foo[:,1], classifs), columns = [\"PC1\",\"PC2\",\"Class\"])\n",
    "    sns.lmplot(data = bar, x = \"PC1\", y = \"PC2\", hue = \"Class\", fit_reg = False)\n",
    "    \n",
    "pca_scatter(pca, X_scaled, y)"
   ]
  },
  {
   "cell_type": "markdown",
   "id": "b78f3182",
   "metadata": {},
   "source": [
    "Instead of PCA or t-SNE, UMAP was another great technique to reduce the dimension and form cluster. With this model, it may be helpful to classify our sample."
   ]
  },
  {
   "cell_type": "code",
   "execution_count": 71,
   "id": "9d4972eb",
   "metadata": {},
   "outputs": [],
   "source": [
    "from umap import UMAP\n",
    "import warnings\n",
    "warnings.filterwarnings(\"ignore\")\n",
    "\n",
    "# create the UMAP model\n",
    "reducer = UMAP(n_components = 2, n_neighbors = 10)\n",
    "\n",
    "# fit and transform all the data with training data set\n",
    "embedding = reducer.fit_transform(X_train)"
   ]
  },
  {
   "cell_type": "markdown",
   "id": "8da89f13",
   "metadata": {},
   "source": [
    "Let's plot and check with the cluster according to the target class"
   ]
  },
  {
   "cell_type": "code",
   "execution_count": 72,
   "id": "3bd239b2",
   "metadata": {},
   "outputs": [
    {
     "data": {
      "text/plain": [
       "Text(0.5, 1.0, 'Visualizing data with UMAP')"
      ]
     },
     "execution_count": 72,
     "metadata": {},
     "output_type": "execute_result"
    },
    {
     "data": {
      "image/png": "[encoded data removed]",
      "text/plain": [
       "<Figure size 432x288 with 1 Axes>"
      ]
     },
     "metadata": {
      "needs_background": "light"
     },
     "output_type": "display_data"
    }
   ],
   "source": [
    "# plot a scatter plot and check with the class\n",
    "plt.scatter(embedding[:,0], embedding[:,1], s = 5, c = y_train, cmap = 'Spectral')\n",
    "# set the axis and limit equal\n",
    "plt.gca().set_aspect('equal', 'datalim')\n",
    "# set the title\n",
    "plt.title('Visualizing data with UMAP', fontsize= 24)"
   ]
  },
  {
   "cell_type": "markdown",
   "id": "a1dac2ff",
   "metadata": {},
   "source": [
    "It seems that there is no pattern with UMAP. It may not be a good way to get a high accuracy. Let's try and check with the accuracy with XGBoost."
   ]
  },
  {
   "cell_type": "code",
   "execution_count": 74,
   "id": "f141a063",
   "metadata": {},
   "outputs": [
    {
     "name": "stdout",
     "output_type": "stream",
     "text": [
      "Accuracy: 0.8851163353361022\n"
     ]
    }
   ],
   "source": [
    "from sklearn.pipeline import Pipeline\n",
    "\n",
    "# create the model for dimension reduction & xgboost\n",
    "_umap = UMAP(n_components = 2, n_neighbors = 10)\n",
    "_xgboost = XGBClassifier(objective = 'multi:softmax', booster = 'gbtree',\n",
    "                        eval_metric = 'auc', tree_method = 'hist', use_label_encoder = False,\n",
    "                          learning_rate = 0.1, max_depth = 8, n_estimators = 1000)\n",
    "# create the pipeline for the progress\n",
    "XGB_UMAP_model = Pipeline([\n",
    "    ('umap', _umap),\n",
    "    ('xgb', _xgboost)\n",
    "])\n",
    "# fit the training set into the pipeline for training\n",
    "XGB_UMAP_model.fit(X_train, y_train)\n",
    "# predict the validation set\n",
    "y_pred = XGB_UMAP_model.predict(X_test)\n",
    "# calculate the accuracy for the model\n",
    "acc = accuracy_score(y_test, y_pred)\n",
    "print(f'Accuracy: {acc}')"
   ]
  },
  {
   "cell_type": "markdown",
   "id": "eea1e49a",
   "metadata": {},
   "source": [
    "According to the validation accuracy, it seems UMAP may not be helpful for dimension reduction. May be dimension reduction is not a good technique for this data set. Let's try to predict the final test set and check with the accuracy."
   ]
  },
  {
   "cell_type": "code",
   "execution_count": 75,
   "id": "4a258d8a",
   "metadata": {},
   "outputs": [],
   "source": [
    "predictions = XGB_UMAP_model.predict(df_test)"
   ]
  },
  {
   "cell_type": "code",
   "execution_count": 76,
   "id": "e97f4975",
   "metadata": {},
   "outputs": [],
   "source": [
    "# take the result appeared most in 5-fold result and generate the submission to test the accuracy\n",
    "from scipy.stats import mode\n",
    "xgb_result = pd.DataFrame()\n",
    "xgb_result['row_id'] = df_test.index\n",
    "xgb_result['target'] = predictions\n",
    "xgb_result['target'] = xgb_result['target'].map(reverse_target)\n",
    "xgb_result.to_csv(\"xgb_UMAP_submission.csv\", index = False)"
   ]
  },
  {
   "cell_type": "markdown",
   "id": "eb1fb2b6",
   "metadata": {},
   "source": [
    "The accuracy (0.78098)for using UMAP was terrible and it is great to know about the preview of UMAP scatter plot do really helpful for the accuracy."
   ]
  }
 ],
 "metadata": {
  "accelerator": "GPU",
  "colab": {
   "collapsed_sections": [
    "f18a6d46"
   ],
   "name": "tabular_playground_series_feb_2022-XGBoost.ipynb",
   "provenance": []
  },
  "kernelspec": {
   "display_name": "Python [conda env:sklearn-env] *",
   "language": "python",
   "name": "conda-env-sklearn-env-py"
  },
  "language_info": {
   "codemirror_mode": {
    "name": "ipython",
    "version": 3
   },
   "file_extension": ".py",
   "mimetype": "text/x-python",
   "name": "python",
   "nbconvert_exporter": "python",
   "pygments_lexer": "ipython3",
   "version": "3.9.7"
  }
 },
 "nbformat": 4,
 "nbformat_minor": 5
}
