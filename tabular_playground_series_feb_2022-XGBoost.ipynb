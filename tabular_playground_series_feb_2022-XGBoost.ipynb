{
 "cells": [
  {
   "cell_type": "markdown",
   "id": "46fecb9a",
   "metadata": {},
   "source": [
    "# Tabular Playground Series - Feb 2022\n",
    "\n",
    "This dataset is aimed to practive ML skills by using the genomic analysis technique data with some data compression and data loss.\n",
    "\n",
    "ATATGGCCTT will be represented as A2T4G2C2 instead of the sequence.\n",
    "\n",
    "Let's start with checking the data set and let's find out some direction for analysis.\n",
    "\n",
    "### This notebook is the template for data transformation and there are few different notebook for each machine learning algorithm"
   ]
  },
  {
   "cell_type": "code",
   "execution_count": 1,
   "id": "a02bf331",
   "metadata": {},
   "outputs": [],
   "source": [
    "# libraries set up\n",
    "import pandas as pd\n",
    "import numpy as np\n",
    "import sklearn\n",
    "import seaborn as sns\n",
    "import matplotlib.pyplot as plt"
   ]
  },
  {
   "cell_type": "code",
   "execution_count": 2,
   "id": "a24bcd40",
   "metadata": {},
   "outputs": [],
   "source": [
    "# read the data\n",
    "train_path = 'data/train.csv'\n",
    "test_path = 'data/test.csv'\n",
    "\n",
    "train_set = pd.read_csv(train_path, index_col = 0)\n",
    "test_set = pd.read_csv(test_path, index_col = 0)"
   ]
  },
  {
   "cell_type": "code",
   "execution_count": 3,
   "id": "03e87493",
   "metadata": {},
   "outputs": [
    {
     "data": {
      "text/html": [
       "<div>\n",
       "<style scoped>\n",
       "    .dataframe tbody tr th:only-of-type {\n",
       "        vertical-align: middle;\n",
       "    }\n",
       "\n",
       "    .dataframe tbody tr th {\n",
       "        vertical-align: top;\n",
       "    }\n",
       "\n",
       "    .dataframe thead th {\n",
       "        text-align: right;\n",
       "    }\n",
       "</style>\n",
       "<table border=\"1\" class=\"dataframe\">\n",
       "  <thead>\n",
       "    <tr style=\"text-align: right;\">\n",
       "      <th></th>\n",
       "      <th>A0T0G0C10</th>\n",
       "      <th>A0T0G1C9</th>\n",
       "      <th>A0T0G2C8</th>\n",
       "      <th>A0T0G3C7</th>\n",
       "      <th>A0T0G4C6</th>\n",
       "      <th>A0T0G5C5</th>\n",
       "      <th>A0T0G6C4</th>\n",
       "      <th>A0T0G7C3</th>\n",
       "      <th>A0T0G8C2</th>\n",
       "      <th>A0T0G9C1</th>\n",
       "      <th>...</th>\n",
       "      <th>A8T0G1C1</th>\n",
       "      <th>A8T0G2C0</th>\n",
       "      <th>A8T1G0C1</th>\n",
       "      <th>A8T1G1C0</th>\n",
       "      <th>A8T2G0C0</th>\n",
       "      <th>A9T0G0C1</th>\n",
       "      <th>A9T0G1C0</th>\n",
       "      <th>A9T1G0C0</th>\n",
       "      <th>A10T0G0C0</th>\n",
       "      <th>target</th>\n",
       "    </tr>\n",
       "    <tr>\n",
       "      <th>row_id</th>\n",
       "      <th></th>\n",
       "      <th></th>\n",
       "      <th></th>\n",
       "      <th></th>\n",
       "      <th></th>\n",
       "      <th></th>\n",
       "      <th></th>\n",
       "      <th></th>\n",
       "      <th></th>\n",
       "      <th></th>\n",
       "      <th></th>\n",
       "      <th></th>\n",
       "      <th></th>\n",
       "      <th></th>\n",
       "      <th></th>\n",
       "      <th></th>\n",
       "      <th></th>\n",
       "      <th></th>\n",
       "      <th></th>\n",
       "      <th></th>\n",
       "      <th></th>\n",
       "    </tr>\n",
       "  </thead>\n",
       "  <tbody>\n",
       "    <tr>\n",
       "      <th>0</th>\n",
       "      <td>-9.536743e-07</td>\n",
       "      <td>-0.000010</td>\n",
       "      <td>-0.000043</td>\n",
       "      <td>-0.000114</td>\n",
       "      <td>-0.000200</td>\n",
       "      <td>-0.000240</td>\n",
       "      <td>-0.000200</td>\n",
       "      <td>-0.000114</td>\n",
       "      <td>-0.000043</td>\n",
       "      <td>-0.000010</td>\n",
       "      <td>...</td>\n",
       "      <td>-0.000086</td>\n",
       "      <td>-0.000043</td>\n",
       "      <td>-0.000086</td>\n",
       "      <td>-0.000086</td>\n",
       "      <td>-0.000043</td>\n",
       "      <td>-0.000010</td>\n",
       "      <td>-0.000010</td>\n",
       "      <td>-0.000010</td>\n",
       "      <td>-9.536743e-07</td>\n",
       "      <td>Streptococcus_pyogenes</td>\n",
       "    </tr>\n",
       "    <tr>\n",
       "      <th>1</th>\n",
       "      <td>-9.536743e-07</td>\n",
       "      <td>-0.000010</td>\n",
       "      <td>-0.000043</td>\n",
       "      <td>0.000886</td>\n",
       "      <td>-0.000200</td>\n",
       "      <td>0.000760</td>\n",
       "      <td>-0.000200</td>\n",
       "      <td>-0.000114</td>\n",
       "      <td>-0.000043</td>\n",
       "      <td>-0.000010</td>\n",
       "      <td>...</td>\n",
       "      <td>-0.000086</td>\n",
       "      <td>-0.000043</td>\n",
       "      <td>0.000914</td>\n",
       "      <td>0.000914</td>\n",
       "      <td>-0.000043</td>\n",
       "      <td>-0.000010</td>\n",
       "      <td>-0.000010</td>\n",
       "      <td>-0.000010</td>\n",
       "      <td>-9.536743e-07</td>\n",
       "      <td>Salmonella_enterica</td>\n",
       "    </tr>\n",
       "    <tr>\n",
       "      <th>2</th>\n",
       "      <td>-9.536743e-07</td>\n",
       "      <td>-0.000002</td>\n",
       "      <td>0.000007</td>\n",
       "      <td>0.000129</td>\n",
       "      <td>0.000268</td>\n",
       "      <td>0.000270</td>\n",
       "      <td>0.000243</td>\n",
       "      <td>0.000125</td>\n",
       "      <td>0.000001</td>\n",
       "      <td>-0.000007</td>\n",
       "      <td>...</td>\n",
       "      <td>0.000084</td>\n",
       "      <td>0.000048</td>\n",
       "      <td>0.000081</td>\n",
       "      <td>0.000106</td>\n",
       "      <td>0.000072</td>\n",
       "      <td>0.000010</td>\n",
       "      <td>0.000008</td>\n",
       "      <td>0.000019</td>\n",
       "      <td>1.046326e-06</td>\n",
       "      <td>Salmonella_enterica</td>\n",
       "    </tr>\n",
       "    <tr>\n",
       "      <th>3</th>\n",
       "      <td>4.632568e-08</td>\n",
       "      <td>-0.000006</td>\n",
       "      <td>0.000012</td>\n",
       "      <td>0.000245</td>\n",
       "      <td>0.000492</td>\n",
       "      <td>0.000522</td>\n",
       "      <td>0.000396</td>\n",
       "      <td>0.000197</td>\n",
       "      <td>-0.000003</td>\n",
       "      <td>-0.000007</td>\n",
       "      <td>...</td>\n",
       "      <td>0.000151</td>\n",
       "      <td>0.000100</td>\n",
       "      <td>0.000180</td>\n",
       "      <td>0.000202</td>\n",
       "      <td>0.000153</td>\n",
       "      <td>0.000021</td>\n",
       "      <td>0.000015</td>\n",
       "      <td>0.000046</td>\n",
       "      <td>-9.536743e-07</td>\n",
       "      <td>Salmonella_enterica</td>\n",
       "    </tr>\n",
       "    <tr>\n",
       "      <th>4</th>\n",
       "      <td>-9.536743e-07</td>\n",
       "      <td>-0.000010</td>\n",
       "      <td>-0.000043</td>\n",
       "      <td>-0.000114</td>\n",
       "      <td>-0.000200</td>\n",
       "      <td>-0.000240</td>\n",
       "      <td>-0.000200</td>\n",
       "      <td>-0.000114</td>\n",
       "      <td>-0.000043</td>\n",
       "      <td>-0.000010</td>\n",
       "      <td>...</td>\n",
       "      <td>-0.000086</td>\n",
       "      <td>-0.000043</td>\n",
       "      <td>-0.000086</td>\n",
       "      <td>-0.000086</td>\n",
       "      <td>-0.000043</td>\n",
       "      <td>-0.000010</td>\n",
       "      <td>-0.000010</td>\n",
       "      <td>-0.000010</td>\n",
       "      <td>-9.536743e-07</td>\n",
       "      <td>Enterococcus_hirae</td>\n",
       "    </tr>\n",
       "  </tbody>\n",
       "</table>\n",
       "<p>5 rows × 287 columns</p>\n",
       "</div>"
      ],
      "text/plain": [
       "           A0T0G0C10  A0T0G1C9  A0T0G2C8  A0T0G3C7  A0T0G4C6  A0T0G5C5  \\\n",
       "row_id                                                                   \n",
       "0      -9.536743e-07 -0.000010 -0.000043 -0.000114 -0.000200 -0.000240   \n",
       "1      -9.536743e-07 -0.000010 -0.000043  0.000886 -0.000200  0.000760   \n",
       "2      -9.536743e-07 -0.000002  0.000007  0.000129  0.000268  0.000270   \n",
       "3       4.632568e-08 -0.000006  0.000012  0.000245  0.000492  0.000522   \n",
       "4      -9.536743e-07 -0.000010 -0.000043 -0.000114 -0.000200 -0.000240   \n",
       "\n",
       "        A0T0G6C4  A0T0G7C3  A0T0G8C2  A0T0G9C1  ...  A8T0G1C1  A8T0G2C0  \\\n",
       "row_id                                          ...                       \n",
       "0      -0.000200 -0.000114 -0.000043 -0.000010  ... -0.000086 -0.000043   \n",
       "1      -0.000200 -0.000114 -0.000043 -0.000010  ... -0.000086 -0.000043   \n",
       "2       0.000243  0.000125  0.000001 -0.000007  ...  0.000084  0.000048   \n",
       "3       0.000396  0.000197 -0.000003 -0.000007  ...  0.000151  0.000100   \n",
       "4      -0.000200 -0.000114 -0.000043 -0.000010  ... -0.000086 -0.000043   \n",
       "\n",
       "        A8T1G0C1  A8T1G1C0  A8T2G0C0  A9T0G0C1  A9T0G1C0  A9T1G0C0  \\\n",
       "row_id                                                               \n",
       "0      -0.000086 -0.000086 -0.000043 -0.000010 -0.000010 -0.000010   \n",
       "1       0.000914  0.000914 -0.000043 -0.000010 -0.000010 -0.000010   \n",
       "2       0.000081  0.000106  0.000072  0.000010  0.000008  0.000019   \n",
       "3       0.000180  0.000202  0.000153  0.000021  0.000015  0.000046   \n",
       "4      -0.000086 -0.000086 -0.000043 -0.000010 -0.000010 -0.000010   \n",
       "\n",
       "           A10T0G0C0                  target  \n",
       "row_id                                        \n",
       "0      -9.536743e-07  Streptococcus_pyogenes  \n",
       "1      -9.536743e-07     Salmonella_enterica  \n",
       "2       1.046326e-06     Salmonella_enterica  \n",
       "3      -9.536743e-07     Salmonella_enterica  \n",
       "4      -9.536743e-07      Enterococcus_hirae  \n",
       "\n",
       "[5 rows x 287 columns]"
      ]
     },
     "execution_count": 3,
     "metadata": {},
     "output_type": "execute_result"
    }
   ],
   "source": [
    "# preview for the train data\n",
    "df_train = train_set.copy()\n",
    "df_train.head()"
   ]
  },
  {
   "cell_type": "code",
   "execution_count": 4,
   "id": "6a401eda",
   "metadata": {},
   "outputs": [
    {
     "data": {
      "text/html": [
       "<div>\n",
       "<style scoped>\n",
       "    .dataframe tbody tr th:only-of-type {\n",
       "        vertical-align: middle;\n",
       "    }\n",
       "\n",
       "    .dataframe tbody tr th {\n",
       "        vertical-align: top;\n",
       "    }\n",
       "\n",
       "    .dataframe thead th {\n",
       "        text-align: right;\n",
       "    }\n",
       "</style>\n",
       "<table border=\"1\" class=\"dataframe\">\n",
       "  <thead>\n",
       "    <tr style=\"text-align: right;\">\n",
       "      <th></th>\n",
       "      <th>A0T0G0C10</th>\n",
       "      <th>A0T0G1C9</th>\n",
       "      <th>A0T0G2C8</th>\n",
       "      <th>A0T0G3C7</th>\n",
       "      <th>A0T0G4C6</th>\n",
       "      <th>A0T0G5C5</th>\n",
       "      <th>A0T0G6C4</th>\n",
       "      <th>A0T0G7C3</th>\n",
       "      <th>A0T0G8C2</th>\n",
       "      <th>A0T0G9C1</th>\n",
       "      <th>...</th>\n",
       "      <th>A8T0G0C2</th>\n",
       "      <th>A8T0G1C1</th>\n",
       "      <th>A8T0G2C0</th>\n",
       "      <th>A8T1G0C1</th>\n",
       "      <th>A8T1G1C0</th>\n",
       "      <th>A8T2G0C0</th>\n",
       "      <th>A9T0G0C1</th>\n",
       "      <th>A9T0G1C0</th>\n",
       "      <th>A9T1G0C0</th>\n",
       "      <th>A10T0G0C0</th>\n",
       "    </tr>\n",
       "    <tr>\n",
       "      <th>row_id</th>\n",
       "      <th></th>\n",
       "      <th></th>\n",
       "      <th></th>\n",
       "      <th></th>\n",
       "      <th></th>\n",
       "      <th></th>\n",
       "      <th></th>\n",
       "      <th></th>\n",
       "      <th></th>\n",
       "      <th></th>\n",
       "      <th></th>\n",
       "      <th></th>\n",
       "      <th></th>\n",
       "      <th></th>\n",
       "      <th></th>\n",
       "      <th></th>\n",
       "      <th></th>\n",
       "      <th></th>\n",
       "      <th></th>\n",
       "      <th></th>\n",
       "      <th></th>\n",
       "    </tr>\n",
       "  </thead>\n",
       "  <tbody>\n",
       "    <tr>\n",
       "      <th>200000</th>\n",
       "      <td>-9.536743e-07</td>\n",
       "      <td>-0.000002</td>\n",
       "      <td>-9.153442e-07</td>\n",
       "      <td>0.000024</td>\n",
       "      <td>0.000034</td>\n",
       "      <td>-0.000002</td>\n",
       "      <td>0.000021</td>\n",
       "      <td>0.000024</td>\n",
       "      <td>-0.000009</td>\n",
       "      <td>-0.000008</td>\n",
       "      <td>...</td>\n",
       "      <td>0.000039</td>\n",
       "      <td>0.000085</td>\n",
       "      <td>0.000055</td>\n",
       "      <td>0.000108</td>\n",
       "      <td>0.000090</td>\n",
       "      <td>0.000059</td>\n",
       "      <td>0.000010</td>\n",
       "      <td>0.000006</td>\n",
       "      <td>0.000027</td>\n",
       "      <td>4.632568e-08</td>\n",
       "    </tr>\n",
       "    <tr>\n",
       "      <th>200001</th>\n",
       "      <td>-9.536743e-07</td>\n",
       "      <td>-0.000010</td>\n",
       "      <td>-4.291534e-05</td>\n",
       "      <td>-0.000114</td>\n",
       "      <td>0.001800</td>\n",
       "      <td>-0.000240</td>\n",
       "      <td>0.001800</td>\n",
       "      <td>-0.000114</td>\n",
       "      <td>0.000957</td>\n",
       "      <td>-0.000010</td>\n",
       "      <td>...</td>\n",
       "      <td>-0.000043</td>\n",
       "      <td>0.000914</td>\n",
       "      <td>-0.000043</td>\n",
       "      <td>-0.000086</td>\n",
       "      <td>-0.000086</td>\n",
       "      <td>-0.000043</td>\n",
       "      <td>-0.000010</td>\n",
       "      <td>-0.000010</td>\n",
       "      <td>-0.000010</td>\n",
       "      <td>-9.536743e-07</td>\n",
       "    </tr>\n",
       "    <tr>\n",
       "      <th>200002</th>\n",
       "      <td>4.632568e-08</td>\n",
       "      <td>0.000003</td>\n",
       "      <td>8.465576e-08</td>\n",
       "      <td>-0.000014</td>\n",
       "      <td>0.000007</td>\n",
       "      <td>-0.000005</td>\n",
       "      <td>-0.000004</td>\n",
       "      <td>0.000003</td>\n",
       "      <td>0.000004</td>\n",
       "      <td>-0.000008</td>\n",
       "      <td>...</td>\n",
       "      <td>0.000041</td>\n",
       "      <td>0.000102</td>\n",
       "      <td>0.000084</td>\n",
       "      <td>0.000111</td>\n",
       "      <td>0.000117</td>\n",
       "      <td>0.000070</td>\n",
       "      <td>0.000020</td>\n",
       "      <td>0.000030</td>\n",
       "      <td>0.000021</td>\n",
       "      <td>4.632568e-08</td>\n",
       "    </tr>\n",
       "    <tr>\n",
       "      <th>200003</th>\n",
       "      <td>-9.536743e-07</td>\n",
       "      <td>-0.000008</td>\n",
       "      <td>8.084656e-06</td>\n",
       "      <td>0.000216</td>\n",
       "      <td>0.000420</td>\n",
       "      <td>0.000514</td>\n",
       "      <td>0.000452</td>\n",
       "      <td>0.000187</td>\n",
       "      <td>-0.000005</td>\n",
       "      <td>-0.000008</td>\n",
       "      <td>...</td>\n",
       "      <td>0.000069</td>\n",
       "      <td>0.000158</td>\n",
       "      <td>0.000098</td>\n",
       "      <td>0.000175</td>\n",
       "      <td>0.000217</td>\n",
       "      <td>0.000150</td>\n",
       "      <td>0.000018</td>\n",
       "      <td>0.000016</td>\n",
       "      <td>0.000051</td>\n",
       "      <td>-9.536743e-07</td>\n",
       "    </tr>\n",
       "    <tr>\n",
       "      <th>200004</th>\n",
       "      <td>-9.536743e-07</td>\n",
       "      <td>-0.000010</td>\n",
       "      <td>-4.291534e-05</td>\n",
       "      <td>-0.000114</td>\n",
       "      <td>-0.000200</td>\n",
       "      <td>-0.000240</td>\n",
       "      <td>-0.000200</td>\n",
       "      <td>-0.000114</td>\n",
       "      <td>-0.000043</td>\n",
       "      <td>-0.000010</td>\n",
       "      <td>...</td>\n",
       "      <td>-0.000043</td>\n",
       "      <td>-0.000086</td>\n",
       "      <td>-0.000043</td>\n",
       "      <td>-0.000086</td>\n",
       "      <td>0.000914</td>\n",
       "      <td>-0.000043</td>\n",
       "      <td>-0.000010</td>\n",
       "      <td>-0.000010</td>\n",
       "      <td>0.000990</td>\n",
       "      <td>-9.536743e-07</td>\n",
       "    </tr>\n",
       "  </tbody>\n",
       "</table>\n",
       "<p>5 rows × 286 columns</p>\n",
       "</div>"
      ],
      "text/plain": [
       "           A0T0G0C10  A0T0G1C9      A0T0G2C8  A0T0G3C7  A0T0G4C6  A0T0G5C5  \\\n",
       "row_id                                                                       \n",
       "200000 -9.536743e-07 -0.000002 -9.153442e-07  0.000024  0.000034 -0.000002   \n",
       "200001 -9.536743e-07 -0.000010 -4.291534e-05 -0.000114  0.001800 -0.000240   \n",
       "200002  4.632568e-08  0.000003  8.465576e-08 -0.000014  0.000007 -0.000005   \n",
       "200003 -9.536743e-07 -0.000008  8.084656e-06  0.000216  0.000420  0.000514   \n",
       "200004 -9.536743e-07 -0.000010 -4.291534e-05 -0.000114 -0.000200 -0.000240   \n",
       "\n",
       "        A0T0G6C4  A0T0G7C3  A0T0G8C2  A0T0G9C1  ...  A8T0G0C2  A8T0G1C1  \\\n",
       "row_id                                          ...                       \n",
       "200000  0.000021  0.000024 -0.000009 -0.000008  ...  0.000039  0.000085   \n",
       "200001  0.001800 -0.000114  0.000957 -0.000010  ... -0.000043  0.000914   \n",
       "200002 -0.000004  0.000003  0.000004 -0.000008  ...  0.000041  0.000102   \n",
       "200003  0.000452  0.000187 -0.000005 -0.000008  ...  0.000069  0.000158   \n",
       "200004 -0.000200 -0.000114 -0.000043 -0.000010  ... -0.000043 -0.000086   \n",
       "\n",
       "        A8T0G2C0  A8T1G0C1  A8T1G1C0  A8T2G0C0  A9T0G0C1  A9T0G1C0  A9T1G0C0  \\\n",
       "row_id                                                                         \n",
       "200000  0.000055  0.000108  0.000090  0.000059  0.000010  0.000006  0.000027   \n",
       "200001 -0.000043 -0.000086 -0.000086 -0.000043 -0.000010 -0.000010 -0.000010   \n",
       "200002  0.000084  0.000111  0.000117  0.000070  0.000020  0.000030  0.000021   \n",
       "200003  0.000098  0.000175  0.000217  0.000150  0.000018  0.000016  0.000051   \n",
       "200004 -0.000043 -0.000086  0.000914 -0.000043 -0.000010 -0.000010  0.000990   \n",
       "\n",
       "           A10T0G0C0  \n",
       "row_id                \n",
       "200000  4.632568e-08  \n",
       "200001 -9.536743e-07  \n",
       "200002  4.632568e-08  \n",
       "200003 -9.536743e-07  \n",
       "200004 -9.536743e-07  \n",
       "\n",
       "[5 rows x 286 columns]"
      ]
     },
     "execution_count": 4,
     "metadata": {},
     "output_type": "execute_result"
    }
   ],
   "source": [
    "#preview for the test data\n",
    "df_test = test_set.copy()\n",
    "df_test.head()"
   ]
  },
  {
   "cell_type": "code",
   "execution_count": 5,
   "id": "3659bace",
   "metadata": {},
   "outputs": [
    {
     "data": {
      "text/plain": [
       "(200000, 287)"
      ]
     },
     "execution_count": 5,
     "metadata": {},
     "output_type": "execute_result"
    }
   ],
   "source": [
    "# check the shape for train set\n",
    "df_train.shape"
   ]
  },
  {
   "cell_type": "code",
   "execution_count": 6,
   "id": "4f8eb696",
   "metadata": {},
   "outputs": [
    {
     "data": {
      "text/plain": [
       "(100000, 286)"
      ]
     },
     "execution_count": 6,
     "metadata": {},
     "output_type": "execute_result"
    }
   ],
   "source": [
    "# check the shape for test set\n",
    "df_test.shape"
   ]
  },
  {
   "cell_type": "markdown",
   "id": "b571014e",
   "metadata": {},
   "source": [
    "There are 200000 set data for model training. \n",
    "\n",
    "100000 testing sample was used for prediction and check with the performance by upload the result to Kaggle.\n",
    "\n",
    "Now, let's check the whole data set and see is there any duplicate/non-numeric data/ missing value and some column needed to be worked on for feature engineering."
   ]
  },
  {
   "cell_type": "markdown",
   "id": "df440eac",
   "metadata": {},
   "source": [
    "#### Missing value\n",
    "\n",
    "Let's check is there any missing value for each sample in both training and testing set"
   ]
  },
  {
   "cell_type": "code",
   "execution_count": 7,
   "id": "5e32fc88",
   "metadata": {},
   "outputs": [
    {
     "name": "stdout",
     "output_type": "stream",
     "text": [
      "Missing value for train set: 0\n",
      "Missing value for test set: 0\n"
     ]
    }
   ],
   "source": [
    "# count the missing value in both data set\n",
    "train_missing_count = 0\n",
    "for i in df_train.columns:\n",
    "    train_missing_count += df_train[i].isna().sum()\n",
    "\n",
    "test_missing_count = 0\n",
    "for i in df_test.columns:\n",
    "    test_missing_count += df_test[i].isna().sum()\n",
    "    \n",
    "print('Missing value for train set: {0}'.format(train_missing_count))\n",
    "print('Missing value for test set: {0}'.format(test_missing_count))"
   ]
  },
  {
   "cell_type": "markdown",
   "id": "9ff195c7",
   "metadata": {},
   "source": [
    "There is no missing value for the data set and we don't have to fill with other value. All the information was remained & obtained.\n",
    "\n",
    "Next, we have to work on the duplicate."
   ]
  },
  {
   "cell_type": "markdown",
   "id": "960569c1",
   "metadata": {},
   "source": [
    "#### Duplicate"
   ]
  },
  {
   "cell_type": "markdown",
   "id": "8ed5b34c",
   "metadata": {},
   "source": [
    "Let's check the sample number for duplicate sample"
   ]
  },
  {
   "cell_type": "code",
   "execution_count": 8,
   "id": "114f8662",
   "metadata": {},
   "outputs": [
    {
     "name": "stdout",
     "output_type": "stream",
     "text": [
      "Duplicate sample in train set: 76007\n",
      "Duplicate sample in test set: 26779\n"
     ]
    }
   ],
   "source": [
    "# print the sample size for duplicate in both train and test set\n",
    "print('Duplicate sample in train set: {0}'.format(df_train.duplicated().sum()))\n",
    "print('Duplicate sample in test set: {0}'.format(df_test.duplicated().sum()))"
   ]
  },
  {
   "cell_type": "markdown",
   "id": "508564f9",
   "metadata": {},
   "source": [
    "Let's remove the duplicates for training set since it may cause overfitting issues."
   ]
  },
  {
   "cell_type": "code",
   "execution_count": 9,
   "id": "aaa9fb0a",
   "metadata": {},
   "outputs": [],
   "source": [
    "# remove the duplicate and replace training set\n",
    "df_train.drop_duplicates(subset = None, keep = 'first', inplace = True)"
   ]
  },
  {
   "cell_type": "markdown",
   "id": "28786bac",
   "metadata": {},
   "source": [
    "#### Object type encoding/ mapping"
   ]
  },
  {
   "cell_type": "markdown",
   "id": "9114b9e7",
   "metadata": {},
   "source": [
    "All the features should be numeric data except the target column but we can still check about the whole data set."
   ]
  },
  {
   "cell_type": "code",
   "execution_count": 10,
   "id": "c2c860c2",
   "metadata": {},
   "outputs": [
    {
     "name": "stdout",
     "output_type": "stream",
     "text": [
      "['target']\n"
     ]
    }
   ],
   "source": [
    "# check for the object column in training set\n",
    "object_list = []\n",
    "for i in df_train.columns:\n",
    "    if df_train[i].dtypes == 'object':\n",
    "        object_list.append(i)\n",
    "print(object_list)"
   ]
  },
  {
   "cell_type": "markdown",
   "id": "497fa8f5",
   "metadata": {},
   "source": [
    "We can see that only the target columns was object type and it is the only column that we needed to do some feature engineering. We can check for the test set as well."
   ]
  },
  {
   "cell_type": "code",
   "execution_count": 11,
   "id": "d5a103ee",
   "metadata": {},
   "outputs": [
    {
     "name": "stdout",
     "output_type": "stream",
     "text": [
      "[]\n"
     ]
    }
   ],
   "source": [
    "# check for the object column in testing set\n",
    "object_list = []\n",
    "for i in df_test.columns:\n",
    "    if df_test[i].dtypes == 'object':\n",
    "        object_list.append(i)\n",
    "print(object_list)"
   ]
  },
  {
   "cell_type": "markdown",
   "id": "cced40a3",
   "metadata": {},
   "source": [
    "Now, all the features parameter was numeric and it can be applied easily for our model without any transformation at this moment.\n",
    "\n",
    "Let's work on the target column in training set and change it to numeric value that's the model is readable.\n",
    "\n",
    "There is two ways for handling this column: (1) Ordinal Encoding (2) One-Hot Encoding. From the description of the data set, there is ten type of bacteria as our target and Orginal Encoding will be a better way to deal with it since it is our target column and we dont want much column for each type of bacteria."
   ]
  },
  {
   "cell_type": "code",
   "execution_count": 12,
   "id": "b7ef9695",
   "metadata": {},
   "outputs": [
    {
     "data": {
      "text/plain": [
       "{'Streptococcus_pyogenes': 0,\n",
       " 'Salmonella_enterica': 1,\n",
       " 'Enterococcus_hirae': 2,\n",
       " 'Escherichia_coli': 3,\n",
       " 'Campylobacter_jejuni': 4,\n",
       " 'Streptococcus_pneumoniae': 5,\n",
       " 'Staphylococcus_aureus': 6,\n",
       " 'Escherichia_fergusonii': 7,\n",
       " 'Bacteroides_fragilis': 8,\n",
       " 'Klebsiella_pneumoniae': 9}"
      ]
     },
     "execution_count": 12,
     "metadata": {},
     "output_type": "execute_result"
    }
   ],
   "source": [
    "# let's check about what type of bacteria\n",
    "list(df_train['target'].unique())\n",
    "\n",
    "# let's assign a number for each type\n",
    "ordinal_target = dict(enumerate(df_train['target'].unique()))\n",
    "ordinal_target = {y:x for x,y in ordinal_target.items()}\n",
    "ordinal_target"
   ]
  },
  {
   "cell_type": "code",
   "execution_count": 13,
   "id": "90f4882e",
   "metadata": {},
   "outputs": [
    {
     "data": {
      "text/html": [
       "<div>\n",
       "<style scoped>\n",
       "    .dataframe tbody tr th:only-of-type {\n",
       "        vertical-align: middle;\n",
       "    }\n",
       "\n",
       "    .dataframe tbody tr th {\n",
       "        vertical-align: top;\n",
       "    }\n",
       "\n",
       "    .dataframe thead th {\n",
       "        text-align: right;\n",
       "    }\n",
       "</style>\n",
       "<table border=\"1\" class=\"dataframe\">\n",
       "  <thead>\n",
       "    <tr style=\"text-align: right;\">\n",
       "      <th></th>\n",
       "      <th>A0T0G0C10</th>\n",
       "      <th>A0T0G1C9</th>\n",
       "      <th>A0T0G2C8</th>\n",
       "      <th>A0T0G3C7</th>\n",
       "      <th>A0T0G4C6</th>\n",
       "      <th>A0T0G5C5</th>\n",
       "      <th>A0T0G6C4</th>\n",
       "      <th>A0T0G7C3</th>\n",
       "      <th>A0T0G8C2</th>\n",
       "      <th>A0T0G9C1</th>\n",
       "      <th>...</th>\n",
       "      <th>A8T0G1C1</th>\n",
       "      <th>A8T0G2C0</th>\n",
       "      <th>A8T1G0C1</th>\n",
       "      <th>A8T1G1C0</th>\n",
       "      <th>A8T2G0C0</th>\n",
       "      <th>A9T0G0C1</th>\n",
       "      <th>A9T0G1C0</th>\n",
       "      <th>A9T1G0C0</th>\n",
       "      <th>A10T0G0C0</th>\n",
       "      <th>target</th>\n",
       "    </tr>\n",
       "    <tr>\n",
       "      <th>row_id</th>\n",
       "      <th></th>\n",
       "      <th></th>\n",
       "      <th></th>\n",
       "      <th></th>\n",
       "      <th></th>\n",
       "      <th></th>\n",
       "      <th></th>\n",
       "      <th></th>\n",
       "      <th></th>\n",
       "      <th></th>\n",
       "      <th></th>\n",
       "      <th></th>\n",
       "      <th></th>\n",
       "      <th></th>\n",
       "      <th></th>\n",
       "      <th></th>\n",
       "      <th></th>\n",
       "      <th></th>\n",
       "      <th></th>\n",
       "      <th></th>\n",
       "      <th></th>\n",
       "    </tr>\n",
       "  </thead>\n",
       "  <tbody>\n",
       "    <tr>\n",
       "      <th>0</th>\n",
       "      <td>-9.536743e-07</td>\n",
       "      <td>-0.000010</td>\n",
       "      <td>-0.000043</td>\n",
       "      <td>-0.000114</td>\n",
       "      <td>-0.000200</td>\n",
       "      <td>-0.000240</td>\n",
       "      <td>-0.000200</td>\n",
       "      <td>-0.000114</td>\n",
       "      <td>-0.000043</td>\n",
       "      <td>-0.000010</td>\n",
       "      <td>...</td>\n",
       "      <td>-0.000086</td>\n",
       "      <td>-0.000043</td>\n",
       "      <td>-0.000086</td>\n",
       "      <td>-0.000086</td>\n",
       "      <td>-0.000043</td>\n",
       "      <td>-0.000010</td>\n",
       "      <td>-0.000010</td>\n",
       "      <td>-0.000010</td>\n",
       "      <td>-9.536743e-07</td>\n",
       "      <td>0</td>\n",
       "    </tr>\n",
       "    <tr>\n",
       "      <th>1</th>\n",
       "      <td>-9.536743e-07</td>\n",
       "      <td>-0.000010</td>\n",
       "      <td>-0.000043</td>\n",
       "      <td>0.000886</td>\n",
       "      <td>-0.000200</td>\n",
       "      <td>0.000760</td>\n",
       "      <td>-0.000200</td>\n",
       "      <td>-0.000114</td>\n",
       "      <td>-0.000043</td>\n",
       "      <td>-0.000010</td>\n",
       "      <td>...</td>\n",
       "      <td>-0.000086</td>\n",
       "      <td>-0.000043</td>\n",
       "      <td>0.000914</td>\n",
       "      <td>0.000914</td>\n",
       "      <td>-0.000043</td>\n",
       "      <td>-0.000010</td>\n",
       "      <td>-0.000010</td>\n",
       "      <td>-0.000010</td>\n",
       "      <td>-9.536743e-07</td>\n",
       "      <td>1</td>\n",
       "    </tr>\n",
       "    <tr>\n",
       "      <th>2</th>\n",
       "      <td>-9.536743e-07</td>\n",
       "      <td>-0.000002</td>\n",
       "      <td>0.000007</td>\n",
       "      <td>0.000129</td>\n",
       "      <td>0.000268</td>\n",
       "      <td>0.000270</td>\n",
       "      <td>0.000243</td>\n",
       "      <td>0.000125</td>\n",
       "      <td>0.000001</td>\n",
       "      <td>-0.000007</td>\n",
       "      <td>...</td>\n",
       "      <td>0.000084</td>\n",
       "      <td>0.000048</td>\n",
       "      <td>0.000081</td>\n",
       "      <td>0.000106</td>\n",
       "      <td>0.000072</td>\n",
       "      <td>0.000010</td>\n",
       "      <td>0.000008</td>\n",
       "      <td>0.000019</td>\n",
       "      <td>1.046326e-06</td>\n",
       "      <td>1</td>\n",
       "    </tr>\n",
       "    <tr>\n",
       "      <th>3</th>\n",
       "      <td>4.632568e-08</td>\n",
       "      <td>-0.000006</td>\n",
       "      <td>0.000012</td>\n",
       "      <td>0.000245</td>\n",
       "      <td>0.000492</td>\n",
       "      <td>0.000522</td>\n",
       "      <td>0.000396</td>\n",
       "      <td>0.000197</td>\n",
       "      <td>-0.000003</td>\n",
       "      <td>-0.000007</td>\n",
       "      <td>...</td>\n",
       "      <td>0.000151</td>\n",
       "      <td>0.000100</td>\n",
       "      <td>0.000180</td>\n",
       "      <td>0.000202</td>\n",
       "      <td>0.000153</td>\n",
       "      <td>0.000021</td>\n",
       "      <td>0.000015</td>\n",
       "      <td>0.000046</td>\n",
       "      <td>-9.536743e-07</td>\n",
       "      <td>1</td>\n",
       "    </tr>\n",
       "    <tr>\n",
       "      <th>4</th>\n",
       "      <td>-9.536743e-07</td>\n",
       "      <td>-0.000010</td>\n",
       "      <td>-0.000043</td>\n",
       "      <td>-0.000114</td>\n",
       "      <td>-0.000200</td>\n",
       "      <td>-0.000240</td>\n",
       "      <td>-0.000200</td>\n",
       "      <td>-0.000114</td>\n",
       "      <td>-0.000043</td>\n",
       "      <td>-0.000010</td>\n",
       "      <td>...</td>\n",
       "      <td>-0.000086</td>\n",
       "      <td>-0.000043</td>\n",
       "      <td>-0.000086</td>\n",
       "      <td>-0.000086</td>\n",
       "      <td>-0.000043</td>\n",
       "      <td>-0.000010</td>\n",
       "      <td>-0.000010</td>\n",
       "      <td>-0.000010</td>\n",
       "      <td>-9.536743e-07</td>\n",
       "      <td>2</td>\n",
       "    </tr>\n",
       "  </tbody>\n",
       "</table>\n",
       "<p>5 rows × 287 columns</p>\n",
       "</div>"
      ],
      "text/plain": [
       "           A0T0G0C10  A0T0G1C9  A0T0G2C8  A0T0G3C7  A0T0G4C6  A0T0G5C5  \\\n",
       "row_id                                                                   \n",
       "0      -9.536743e-07 -0.000010 -0.000043 -0.000114 -0.000200 -0.000240   \n",
       "1      -9.536743e-07 -0.000010 -0.000043  0.000886 -0.000200  0.000760   \n",
       "2      -9.536743e-07 -0.000002  0.000007  0.000129  0.000268  0.000270   \n",
       "3       4.632568e-08 -0.000006  0.000012  0.000245  0.000492  0.000522   \n",
       "4      -9.536743e-07 -0.000010 -0.000043 -0.000114 -0.000200 -0.000240   \n",
       "\n",
       "        A0T0G6C4  A0T0G7C3  A0T0G8C2  A0T0G9C1  ...  A8T0G1C1  A8T0G2C0  \\\n",
       "row_id                                          ...                       \n",
       "0      -0.000200 -0.000114 -0.000043 -0.000010  ... -0.000086 -0.000043   \n",
       "1      -0.000200 -0.000114 -0.000043 -0.000010  ... -0.000086 -0.000043   \n",
       "2       0.000243  0.000125  0.000001 -0.000007  ...  0.000084  0.000048   \n",
       "3       0.000396  0.000197 -0.000003 -0.000007  ...  0.000151  0.000100   \n",
       "4      -0.000200 -0.000114 -0.000043 -0.000010  ... -0.000086 -0.000043   \n",
       "\n",
       "        A8T1G0C1  A8T1G1C0  A8T2G0C0  A9T0G0C1  A9T0G1C0  A9T1G0C0  \\\n",
       "row_id                                                               \n",
       "0      -0.000086 -0.000086 -0.000043 -0.000010 -0.000010 -0.000010   \n",
       "1       0.000914  0.000914 -0.000043 -0.000010 -0.000010 -0.000010   \n",
       "2       0.000081  0.000106  0.000072  0.000010  0.000008  0.000019   \n",
       "3       0.000180  0.000202  0.000153  0.000021  0.000015  0.000046   \n",
       "4      -0.000086 -0.000086 -0.000043 -0.000010 -0.000010 -0.000010   \n",
       "\n",
       "           A10T0G0C0  target  \n",
       "row_id                        \n",
       "0      -9.536743e-07       0  \n",
       "1      -9.536743e-07       1  \n",
       "2       1.046326e-06       1  \n",
       "3      -9.536743e-07       1  \n",
       "4      -9.536743e-07       2  \n",
       "\n",
       "[5 rows x 287 columns]"
      ]
     },
     "execution_count": 13,
     "metadata": {},
     "output_type": "execute_result"
    }
   ],
   "source": [
    "# make another copy to prevent data change\n",
    "label_df_train = df_train.copy()\n",
    "\n",
    "# let's map with the dict that we create in the data set\n",
    "label_df_train['target'] = label_df_train['target'].map(ordinal_target)\n",
    "\n",
    "# let's check the data set after mapping/ ordinal encoding\n",
    "label_df_train.head()"
   ]
  },
  {
   "cell_type": "markdown",
   "id": "f0831659",
   "metadata": {},
   "source": [
    "After the mapping, the data was ready for training the model and we can try it in a different.\n",
    "\n",
    "Let's work a simple XGBoost model and check with the result first."
   ]
  },
  {
   "cell_type": "markdown",
   "id": "3f24226d",
   "metadata": {},
   "source": [
    "##### XGBoost"
   ]
  },
  {
   "cell_type": "markdown",
   "id": "5a6c01d0",
   "metadata": {},
   "source": [
    "In the XGBoost library, it got XGBoost Regressor & XGBoost Classifier. In the prediction, classification was needed and XGB Classifier will be used as the model."
   ]
  },
  {
   "cell_type": "code",
   "execution_count": 14,
   "id": "7a7e05c1",
   "metadata": {},
   "outputs": [],
   "source": [
    "# set up for machine learning libraries\n",
    "from xgboost import XGBClassifier\n",
    "from sklearn.model_selection import train_test_split\n",
    "from sklearn.metrics import accuracy_score"
   ]
  },
  {
   "cell_type": "markdown",
   "id": "a11b7e28",
   "metadata": {},
   "source": [
    "Spliting of the data in data set is needed since the model performance needed to be determined."
   ]
  },
  {
   "cell_type": "code",
   "execution_count": 15,
   "id": "cc92da28",
   "metadata": {},
   "outputs": [],
   "source": [
    "# extract the features and the target\n",
    "X = label_df_train.drop('target', axis = 1)\n",
    "y = label_df_train['target']\n",
    "\n",
    "# set the test size with 10% first since there is 200000 samples\n",
    "test_size = 0.1\n",
    "# split the train data into training set & testing set for the model\n",
    "X_train, X_test, y_train, y_test = train_test_split(X, y, test_size = test_size)"
   ]
  },
  {
   "cell_type": "code",
   "execution_count": 16,
   "id": "6c6e5c04",
   "metadata": {},
   "outputs": [
    {
     "name": "stdout",
     "output_type": "stream",
     "text": [
      "[02:33:57] WARNING: /Users/ktietz/demo/mc3/conda-bld/xgboost-split_1628682908089/work/src/learner.cc:1061: Starting in XGBoost 1.3.0, the default evaluation metric used with the objective 'multi:softprob' was changed from 'merror' to 'mlogloss'. Explicitly set eval_metric if you'd like to restore the old behavior.\n"
     ]
    },
    {
     "data": {
      "text/plain": [
       "XGBClassifier(base_score=0.5, booster='gbtree', colsample_bylevel=1,\n",
       "              colsample_bynode=1, colsample_bytree=1, gamma=0, gpu_id=-1,\n",
       "              importance_type='gain', interaction_constraints='',\n",
       "              learning_rate=0.300000012, max_delta_step=0, max_depth=6,\n",
       "              min_child_weight=1, missing=nan, monotone_constraints='()',\n",
       "              n_estimators=100, n_jobs=8, num_parallel_tree=1,\n",
       "              objective='multi:softprob', random_state=0, reg_alpha=0,\n",
       "              reg_lambda=1, scale_pos_weight=None, subsample=1,\n",
       "              tree_method='exact', use_label_encoder=False,\n",
       "              validate_parameters=1, verbosity=None)"
      ]
     },
     "execution_count": 16,
     "metadata": {},
     "output_type": "execute_result"
    }
   ],
   "source": [
    "# create the model\n",
    "xgb = XGBClassifier(use_label_encoder = False)\n",
    "# fit the train data into the model\n",
    "xgb.fit(X_train, y_train)"
   ]
  },
  {
   "cell_type": "markdown",
   "id": "c175ff09",
   "metadata": {},
   "source": [
    "After training the model, the accuracy of the model will be tested by using the splited testing data"
   ]
  },
  {
   "cell_type": "code",
   "execution_count": 17,
   "id": "ca51d8df",
   "metadata": {},
   "outputs": [
    {
     "data": {
      "text/plain": [
       "0.995"
      ]
     },
     "execution_count": 17,
     "metadata": {},
     "output_type": "execute_result"
    }
   ],
   "source": [
    "# test the accuracy for the model\n",
    "y_pred = xgb.predict(X_test)\n",
    "# calculate the accuracy by comparing with y_test set\n",
    "accuracy = accuracy_score(y_test, y_pred)\n",
    "accuracy"
   ]
  },
  {
   "cell_type": "markdown",
   "id": "d6d7d5b7",
   "metadata": {},
   "source": [
    "The accuracy for the model was around 97% and it can be used for prediction of the final testing set."
   ]
  },
  {
   "cell_type": "code",
   "execution_count": 18,
   "id": "b104127b",
   "metadata": {},
   "outputs": [],
   "source": [
    "# predict the final result with the final test set\n",
    "y_final = xgb.predict(df_test)"
   ]
  },
  {
   "cell_type": "code",
   "execution_count": 19,
   "id": "82047d85",
   "metadata": {},
   "outputs": [],
   "source": [
    "# create the data set for the final result\n",
    "df_final = pd.DataFrame()\n",
    "df_final['row_id'] = df_test.index\n",
    "df_final['target'] = y_final\n",
    "ordinal_target = {y:x for x,y in ordinal_target.items()}\n",
    "df_final['target'] = df_final['target'].map(ordinal_target)"
   ]
  },
  {
   "cell_type": "code",
   "execution_count": 20,
   "id": "9b80ef7a",
   "metadata": {},
   "outputs": [
    {
     "data": {
      "text/html": [
       "<div>\n",
       "<style scoped>\n",
       "    .dataframe tbody tr th:only-of-type {\n",
       "        vertical-align: middle;\n",
       "    }\n",
       "\n",
       "    .dataframe tbody tr th {\n",
       "        vertical-align: top;\n",
       "    }\n",
       "\n",
       "    .dataframe thead th {\n",
       "        text-align: right;\n",
       "    }\n",
       "</style>\n",
       "<table border=\"1\" class=\"dataframe\">\n",
       "  <thead>\n",
       "    <tr style=\"text-align: right;\">\n",
       "      <th></th>\n",
       "      <th>row_id</th>\n",
       "      <th>target</th>\n",
       "    </tr>\n",
       "  </thead>\n",
       "  <tbody>\n",
       "    <tr>\n",
       "      <th>0</th>\n",
       "      <td>200000</td>\n",
       "      <td>Escherichia_fergusonii</td>\n",
       "    </tr>\n",
       "    <tr>\n",
       "      <th>1</th>\n",
       "      <td>200001</td>\n",
       "      <td>Salmonella_enterica</td>\n",
       "    </tr>\n",
       "    <tr>\n",
       "      <th>2</th>\n",
       "      <td>200002</td>\n",
       "      <td>Enterococcus_hirae</td>\n",
       "    </tr>\n",
       "    <tr>\n",
       "      <th>3</th>\n",
       "      <td>200003</td>\n",
       "      <td>Salmonella_enterica</td>\n",
       "    </tr>\n",
       "    <tr>\n",
       "      <th>4</th>\n",
       "      <td>200004</td>\n",
       "      <td>Staphylococcus_aureus</td>\n",
       "    </tr>\n",
       "  </tbody>\n",
       "</table>\n",
       "</div>"
      ],
      "text/plain": [
       "   row_id                  target\n",
       "0  200000  Escherichia_fergusonii\n",
       "1  200001     Salmonella_enterica\n",
       "2  200002      Enterococcus_hirae\n",
       "3  200003     Salmonella_enterica\n",
       "4  200004   Staphylococcus_aureus"
      ]
     },
     "execution_count": 20,
     "metadata": {},
     "output_type": "execute_result"
    }
   ],
   "source": [
    "# let's preview the result and generate the csv file\n",
    "df_final.to_csv('./submission2.csv', index=False)\n",
    "df_final.head()"
   ]
  },
  {
   "cell_type": "markdown",
   "id": "38d4df3e",
   "metadata": {},
   "source": [
    "After the first submission, seems like we can imporve the whole model by tuning the hyperparameter.\n",
    "\n",
    "Let's take a look and keep tuning the hyperparameter for model improvement."
   ]
  },
  {
   "cell_type": "markdown",
   "id": "f18a6d46",
   "metadata": {},
   "source": [
    "There is fews regularization parameters that it can be tried. Let's apply regularization by checking with different lambda value since all the features will be related and those parameters can still be kept after the regularization. Those parameters will be modified step by step instead of quick build as previous sections.\n",
    "\n",
    "#### Regularization"
   ]
  },
  {
   "cell_type": "code",
   "execution_count": 25,
   "id": "9496d2ac",
   "metadata": {},
   "outputs": [],
   "source": [
    "# define the parameter for adjustment\n",
    "params = {\n",
    "    'booster' : 'gbtree', # tree model instead of linear model for classification\n",
    "    'objective' : 'multi:softmax', # return multiple catergories \n",
    "    'num_class': len(ordinal_target), # number of our target class\n",
    "    'gamma' : 0.1, # 0.1 gamma for regularization\n",
    "    'max_depth' : 6, # depth of tree\n",
    "    'lambda': 5, # 5 for L2 regularization\n",
    "    'subsample' : 0.7, # use 70% of training set for each tree\n",
    "    'colsample_bytree' : 0.7, # maximum features for each tree\n",
    "    'min_child_weight' : 3, # wegiht for the leaf -> larger -> prevent learn some specific sample\n",
    "    'slient' : 1, # output the process (Not be used next time)\n",
    "    'eta' : 0.1, \n",
    "    'seed' : 1000,\n",
    "    'nthread' : 4,\n",
    "}"
   ]
  },
  {
   "cell_type": "code",
   "execution_count": 29,
   "id": "776821e7",
   "metadata": {},
   "outputs": [
    {
     "name": "stdout",
     "output_type": "stream",
     "text": [
      "[21:12:54] WARNING: /Users/ktietz/demo/mc3/conda-bld/xgboost-split_1628682908089/work/src/learner.cc:541: \n",
      "Parameters: { slient } might not be used.\n",
      "\n",
      "  This may not be accurate due to some parameters are only used in language bindings but\n",
      "  passed down to XGBoost core.  Or some parameters are not used but slip through this\n",
      "  verification. Please open an issue if you find above cases.\n",
      "\n",
      "\n",
      "[21:12:57] WARNING: /Users/ktietz/demo/mc3/conda-bld/xgboost-split_1628682908089/work/src/learner.cc:1061: Starting in XGBoost 1.3.0, the default evaluation metric used with the objective 'multi:softmax' was changed from 'merror' to 'mlogloss'. Explicitly set eval_metric if you'd like to restore the old behavior.\n"
     ]
    }
   ],
   "source": [
    "import xgboost\n",
    "from xgboost import plot_importance\n",
    "\n",
    "dtrain = xgboost.DMatrix(X_train, y_train)\n",
    "num_rounds = 300\n",
    "model = xgboost.train(params, dtrain, num_rounds)"
   ]
  },
  {
   "cell_type": "code",
   "execution_count": 31,
   "id": "7749e8a3",
   "metadata": {},
   "outputs": [
    {
     "name": "stdout",
     "output_type": "stream",
     "text": [
      "Accuracy: 0.97\n"
     ]
    }
   ],
   "source": [
    "# predict the value by using splited test set\n",
    "dtest = xgboost.DMatrix(X_test)\n",
    "y_pred = model.predict(dtest)\n",
    "accuracy = accuracy_score(y_test, y_pred)\n",
    "print('Accuracy: {:.2f}'.format(accuracy))"
   ]
  },
  {
   "cell_type": "code",
   "execution_count": 33,
   "id": "1638add3",
   "metadata": {},
   "outputs": [
    {
     "data": {
      "text/plain": [
       "array([7., 1., 2., ..., 8., 8., 0.], dtype=float32)"
      ]
     },
     "execution_count": 33,
     "metadata": {},
     "output_type": "execute_result"
    }
   ],
   "source": [
    "# predict the final test set with trained model\n",
    "finaltest = xgboost.DMatrix(df_test)\n",
    "y_final = model.predict(finaltest)\n",
    "y_final"
   ]
  },
  {
   "cell_type": "code",
   "execution_count": 34,
   "id": "5310508a",
   "metadata": {},
   "outputs": [],
   "source": [
    "# create the data set for the final result\n",
    "df_final = pd.DataFrame()\n",
    "df_final['row_id'] = df_test.index\n",
    "df_final['target'] = y_final\n",
    "df_final['target'] = df_final['target'].map(ordinal_target)"
   ]
  },
  {
   "cell_type": "code",
   "execution_count": 36,
   "id": "2ec2df60",
   "metadata": {},
   "outputs": [
    {
     "data": {
      "text/html": [
       "<div>\n",
       "<style scoped>\n",
       "    .dataframe tbody tr th:only-of-type {\n",
       "        vertical-align: middle;\n",
       "    }\n",
       "\n",
       "    .dataframe tbody tr th {\n",
       "        vertical-align: top;\n",
       "    }\n",
       "\n",
       "    .dataframe thead th {\n",
       "        text-align: right;\n",
       "    }\n",
       "</style>\n",
       "<table border=\"1\" class=\"dataframe\">\n",
       "  <thead>\n",
       "    <tr style=\"text-align: right;\">\n",
       "      <th></th>\n",
       "      <th>row_id</th>\n",
       "      <th>target</th>\n",
       "    </tr>\n",
       "  </thead>\n",
       "  <tbody>\n",
       "    <tr>\n",
       "      <th>0</th>\n",
       "      <td>200000</td>\n",
       "      <td>Escherichia_fergusonii</td>\n",
       "    </tr>\n",
       "    <tr>\n",
       "      <th>1</th>\n",
       "      <td>200001</td>\n",
       "      <td>Salmonella_enterica</td>\n",
       "    </tr>\n",
       "    <tr>\n",
       "      <th>2</th>\n",
       "      <td>200002</td>\n",
       "      <td>Enterococcus_hirae</td>\n",
       "    </tr>\n",
       "    <tr>\n",
       "      <th>3</th>\n",
       "      <td>200003</td>\n",
       "      <td>Salmonella_enterica</td>\n",
       "    </tr>\n",
       "    <tr>\n",
       "      <th>4</th>\n",
       "      <td>200004</td>\n",
       "      <td>Staphylococcus_aureus</td>\n",
       "    </tr>\n",
       "  </tbody>\n",
       "</table>\n",
       "</div>"
      ],
      "text/plain": [
       "   row_id                  target\n",
       "0  200000  Escherichia_fergusonii\n",
       "1  200001     Salmonella_enterica\n",
       "2  200002      Enterococcus_hirae\n",
       "3  200003     Salmonella_enterica\n",
       "4  200004   Staphylococcus_aureus"
      ]
     },
     "execution_count": 36,
     "metadata": {},
     "output_type": "execute_result"
    }
   ],
   "source": [
    "# Generate another submission and check with the accuracy on Kaggle\n",
    "df_final.to_csv('./submission3.csv', index=False)\n",
    "df_final.head()"
   ]
  },
  {
   "cell_type": "markdown",
   "id": "fc3e6491",
   "metadata": {},
   "source": [
    "#### Result of the submission\n",
    "\n",
    "17/02/2022 First trial (XGBoost): Score = 0.90366, Rank = 701\n",
    "\n",
    "18/02/2022 Second trial (XGBoost) : Score = 0.91611, Rank = 720 (Accuracy was increased)"
   ]
  },
  {
   "cell_type": "code",
   "execution_count": null,
   "id": "b31927c7",
   "metadata": {},
   "outputs": [],
   "source": []
  }
 ],
 "metadata": {
  "kernelspec": {
   "display_name": "Python [conda env:sklearn-env] *",
   "language": "python",
   "name": "conda-env-sklearn-env-py"
  },
  "language_info": {
   "codemirror_mode": {
    "name": "ipython",
    "version": 3
   },
   "file_extension": ".py",
   "mimetype": "text/x-python",
   "name": "python",
   "nbconvert_exporter": "python",
   "pygments_lexer": "ipython3",
   "version": "3.9.7"
  }
 },
 "nbformat": 4,
 "nbformat_minor": 5
}
